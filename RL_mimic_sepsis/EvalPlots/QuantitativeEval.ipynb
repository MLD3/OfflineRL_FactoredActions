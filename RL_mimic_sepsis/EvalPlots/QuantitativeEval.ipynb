{
 "cells": [
  {
   "cell_type": "code",
   "execution_count": 1,
   "id": "68826397-5672-4ccc-a320-796e6250ffe0",
   "metadata": {},
   "outputs": [],
   "source": [
    "%config InlineBackend.figure_formats = ['svg']"
   ]
  },
  {
   "cell_type": "code",
   "execution_count": 2,
   "id": "86413e5b-0984-409f-a8ac-c046fe12c693",
   "metadata": {},
   "outputs": [],
   "source": [
    "import matplotlib\n",
    "matplotlib.rcParams['font.sans-serif'] = ['FreeSans']"
   ]
  },
  {
   "cell_type": "code",
   "execution_count": 3,
   "id": "1e20b0d3-399a-415e-bed9-3b274eceb708",
   "metadata": {},
   "outputs": [],
   "source": [
    "import pandas as pd\n",
    "import numpy as np\n",
    "import matplotlib.pyplot as plt\n",
    "import seaborn as sns"
   ]
  },
  {
   "cell_type": "code",
   "execution_count": 4,
   "id": "b3ea69b1-c8a5-4706-9dfd-98711209d045",
   "metadata": {},
   "outputs": [],
   "source": [
    "state_dim = 64\n",
    "num_actions = 25\n",
    "horizon = 20"
   ]
  },
  {
   "cell_type": "code",
   "execution_count": 5,
   "id": "96e8ef97-974e-4fba-b188-2752bc7fdfc8",
   "metadata": {},
   "outputs": [],
   "source": [
    "from a5cpu_BCQ.model import BCQ\n",
    "from a5cpu_BCQ.data import remap_rewards\n",
    "from a5cpu_BCQ.data import EpisodicBuffer as EpisodicBufferOO\n",
    "from a7cpu_BCQf.model import BCQf\n",
    "from a7cpu_BCQf.data import EpisodicBuffer as EpisodicBufferFF\n",
    "from a7cpu_BCQf.model import all_subactions_vec"
   ]
  },
  {
   "cell_type": "code",
   "execution_count": 6,
   "id": "a503cea0-90da-407c-8477-7e63cf7cb574",
   "metadata": {},
   "outputs": [],
   "source": [
    "from evaluate import (\n",
    "    EpisodicBufferO, offline_evaluation_O,\n",
    "    EpisodicBufferF, offline_evaluation_F,\n",
    ")"
   ]
  },
  {
   "cell_type": "code",
   "execution_count": 7,
   "id": "e1a2b0c7-80a9-4ab6-ab81-d55f615d8ef4",
   "metadata": {},
   "outputs": [],
   "source": [
    "from types import SimpleNamespace\n",
    "import torch\n",
    "import torch.nn.functional as F\n",
    "from torch.utils.data import DataLoader\n",
    "from tqdm import tqdm\n",
    "from joblib import Parallel, delayed"
   ]
  },
  {
   "cell_type": "code",
   "execution_count": 8,
   "id": "b7b2e913-b3b4-4536-998d-0ad4e4ecd606",
   "metadata": {},
   "outputs": [],
   "source": [
    "df_1_best = pd.read_csv('best_BCQ_meta.csv')\n",
    "df_2_best = pd.read_csv('best_BCQf_meta.csv')"
   ]
  },
  {
   "cell_type": "code",
   "execution_count": 9,
   "id": "1e1cb480-3230-440f-8913-11b1e2c08f6b",
   "metadata": {},
   "outputs": [
    {
     "data": {
      "text/html": [
       "<div>\n",
       "<style scoped>\n",
       "    .dataframe tbody tr th:only-of-type {\n",
       "        vertical-align: middle;\n",
       "    }\n",
       "\n",
       "    .dataframe tbody tr th {\n",
       "        vertical-align: top;\n",
       "    }\n",
       "\n",
       "    .dataframe thead th {\n",
       "        text-align: right;\n",
       "    }\n",
       "</style>\n",
       "<table border=\"1\" class=\"dataframe\">\n",
       "  <thead>\n",
       "    <tr style=\"text-align: right;\">\n",
       "      <th></th>\n",
       "      <th>index</th>\n",
       "      <th>iteration</th>\n",
       "      <th>val_qvalues</th>\n",
       "      <th>val_wis</th>\n",
       "      <th>val_ess</th>\n",
       "      <th>epoch</th>\n",
       "      <th>created_at</th>\n",
       "      <th>version</th>\n",
       "      <th>threshold</th>\n",
       "      <th>seed</th>\n",
       "    </tr>\n",
       "  </thead>\n",
       "  <tbody>\n",
       "    <tr>\n",
       "      <th>0</th>\n",
       "      <td>97</td>\n",
       "      <td>9800.0</td>\n",
       "      <td>11.247806</td>\n",
       "      <td>92.497391</td>\n",
       "      <td>202.913132</td>\n",
       "      <td>5</td>\n",
       "      <td>2021-11-15 19:47:41.309691</td>\n",
       "      <td>17</td>\n",
       "      <td>0.5</td>\n",
       "      <td>1</td>\n",
       "    </tr>\n",
       "  </tbody>\n",
       "</table>\n",
       "</div>"
      ],
      "text/plain": [
       "   index  iteration  val_qvalues    val_wis     val_ess  epoch  \\\n",
       "0     97     9800.0    11.247806  92.497391  202.913132      5   \n",
       "\n",
       "                   created_at  version  threshold  seed  \n",
       "0  2021-11-15 19:47:41.309691       17        0.5     1  "
      ]
     },
     "execution_count": 9,
     "metadata": {},
     "output_type": "execute_result"
    }
   ],
   "source": [
    "df_1_best"
   ]
  },
  {
   "cell_type": "code",
   "execution_count": 10,
   "id": "ee46418e-fc94-43c8-94bd-7e21521f27ee",
   "metadata": {},
   "outputs": [
    {
     "data": {
      "text/html": [
       "<div>\n",
       "<style scoped>\n",
       "    .dataframe tbody tr th:only-of-type {\n",
       "        vertical-align: middle;\n",
       "    }\n",
       "\n",
       "    .dataframe tbody tr th {\n",
       "        vertical-align: top;\n",
       "    }\n",
       "\n",
       "    .dataframe thead th {\n",
       "        text-align: right;\n",
       "    }\n",
       "</style>\n",
       "<table border=\"1\" class=\"dataframe\">\n",
       "  <thead>\n",
       "    <tr style=\"text-align: right;\">\n",
       "      <th></th>\n",
       "      <th>index</th>\n",
       "      <th>iteration</th>\n",
       "      <th>val_qvalues</th>\n",
       "      <th>val_wis</th>\n",
       "      <th>val_ess</th>\n",
       "      <th>epoch</th>\n",
       "      <th>created_at</th>\n",
       "      <th>version</th>\n",
       "      <th>threshold</th>\n",
       "      <th>seed</th>\n",
       "    </tr>\n",
       "  </thead>\n",
       "  <tbody>\n",
       "    <tr>\n",
       "      <th>0</th>\n",
       "      <td>90</td>\n",
       "      <td>9100.0</td>\n",
       "      <td>10.518903</td>\n",
       "      <td>93.28846</td>\n",
       "      <td>216.866272</td>\n",
       "      <td>5</td>\n",
       "      <td>2021-11-15 19:51:43.311177</td>\n",
       "      <td>27</td>\n",
       "      <td>0.5</td>\n",
       "      <td>4</td>\n",
       "    </tr>\n",
       "  </tbody>\n",
       "</table>\n",
       "</div>"
      ],
      "text/plain": [
       "   index  iteration  val_qvalues   val_wis     val_ess  epoch  \\\n",
       "0     90     9100.0    10.518903  93.28846  216.866272      5   \n",
       "\n",
       "                   created_at  version  threshold  seed  \n",
       "0  2021-11-15 19:51:43.311177       27        0.5     4  "
      ]
     },
     "execution_count": 10,
     "metadata": {},
     "output_type": "execute_result"
    }
   ],
   "source": [
    "df_2_best"
   ]
  },
  {
   "cell_type": "code",
   "execution_count": 11,
   "id": "4db22eba-b2bd-457f-862f-2ea7e3f3541d",
   "metadata": {},
   "outputs": [
    {
     "data": {
      "text/plain": [
       "17"
      ]
     },
     "execution_count": 11,
     "metadata": {},
     "output_type": "execute_result"
    }
   ],
   "source": [
    "df_1_best['version'].item()"
   ]
  },
  {
   "cell_type": "code",
   "execution_count": 12,
   "id": "fc11a201-6b86-476c-8251-fd0cccb76334",
   "metadata": {},
   "outputs": [],
   "source": [
    "model_1 = BCQ.load_from_checkpoint(\n",
    "    checkpoint_path=f'../a5cpu_BCQ/logs/mimic_dBCQ/version_{df_1_best[\"version\"].item()}/checkpoints/step={int(df_1_best[\"iteration\"].item()-1)}.ckpt', \n",
    "    map_location=None)\n",
    "model_1.eval()\n",
    "\n",
    "model_2 = BCQf.load_from_checkpoint(\n",
    "    checkpoint_path=f'../a7cpu_BCQf/logs/mimic_dBCQf/version_{df_2_best[\"version\"].item()}/checkpoints/step={int(df_2_best[\"iteration\"].item()-1)}.ckpt', \n",
    "    map_location=None)\n",
    "model_2.eval()\n",
    "model_2.all_subactions_vec = all_subactions_vec"
   ]
  },
  {
   "cell_type": "code",
   "execution_count": 13,
   "id": "991a8e27-1692-428a-8893-bc337d5a7242",
   "metadata": {},
   "outputs": [
    {
     "name": "stdout",
     "output_type": "stream",
     "text": [
      "Episodic Buffer loaded with 2894 episides.\n"
     ]
    }
   ],
   "source": [
    "test_episodes_O = EpisodicBufferO(state_dim, num_actions, horizon)\n",
    "test_episodes_O.load('../data/episodes+encoded_state+knn_pibs/test_data.pt')\n",
    "test_episodes_O.reward = remap_rewards(test_episodes_O.reward, SimpleNamespace(**{'R_immed': 0.0, 'R_death': 0.0, 'R_disch': 100.0}))\n",
    "\n",
    "tmp_test_episodes_loader_O = DataLoader(test_episodes_O, batch_size=len(test_episodes_O), shuffle=False)\n",
    "test_batch_O = next(iter(tmp_test_episodes_loader_O))"
   ]
  },
  {
   "cell_type": "code",
   "execution_count": 14,
   "id": "55f3488c-c493-43c3-a0c1-08dd49859357",
   "metadata": {},
   "outputs": [],
   "source": [
    "test_wis_1, test_ess_1 = model_1.offline_evaluation(test_batch_O, weighted=True, eps=0.01)\n",
    "test_wis_2, test_ess_2 = offline_evaluation_O(model_2, test_batch_O, weighted=True, eps=0.01)"
   ]
  },
  {
   "cell_type": "code",
   "execution_count": 15,
   "id": "96b3bae9-13e1-4cd1-ada6-f3a290f47535",
   "metadata": {},
   "outputs": [
    {
     "name": "stdout",
     "output_type": "stream",
     "text": [
      "Observed Test \t WIS: 90.29 \t ESS: 2894.00\n",
      "Baseline BCQ \t WIS: 90.44 \t ESS: 178.32\n",
      "Factored BCQ \t WIS: 91.62 \t ESS: 178.32\n"
     ]
    }
   ],
   "source": [
    "print(f'Observed Test \\t WIS: {test_episodes_O.reward.sum(axis=1).mean():.2f} \\t ESS: {test_episodes_O.reward.shape[0]:.2f}')\n",
    "print(f'Baseline BCQ \\t WIS: {test_wis_1:.2f} \\t ESS: {test_ess_1:.2f}')\n",
    "print(f'Factored BCQ \\t WIS: {test_wis_2:.2f} \\t ESS: {test_ess_2:.2f}')"
   ]
  },
  {
   "cell_type": "code",
   "execution_count": 16,
   "id": "5cc1769b-8554-46c2-b33c-31a3c18f0b9a",
   "metadata": {},
   "outputs": [],
   "source": [
    "def bootstrap_test(i, buffer):\n",
    "    n_epiosdes = len(buffer)\n",
    "    idx = np.random.default_rng(seed=i).choice(n_epiosdes, n_epiosdes, replace=True)\n",
    "    batch = buffer[idx]\n",
    "    return batch[2].sum(axis=1).mean()"
   ]
  },
  {
   "cell_type": "code",
   "execution_count": 17,
   "id": "9e495adf-3449-4df0-9182-04632b048367",
   "metadata": {},
   "outputs": [],
   "source": [
    "def bootstrap_WIS_1(i, buffer):\n",
    "    n_epiosdes = len(buffer)\n",
    "    idx = np.random.default_rng(seed=i).choice(n_epiosdes, n_epiosdes, replace=True)\n",
    "    batch = buffer[idx]\n",
    "    return model_1.offline_evaluation(batch, weighted=True, eps=0.01)"
   ]
  },
  {
   "cell_type": "code",
   "execution_count": 18,
   "id": "b17386dd-50fe-4451-9284-14539792d21e",
   "metadata": {},
   "outputs": [],
   "source": [
    "def bootstrap_WIS_2(i, buffer):\n",
    "    n_epiosdes = len(buffer)\n",
    "    idx = np.random.default_rng(seed=i).choice(n_epiosdes, n_epiosdes, replace=True)\n",
    "    batch = buffer[idx]\n",
    "    return offline_evaluation_O(model_2, batch, weighted=True, eps=0.01)"
   ]
  },
  {
   "cell_type": "markdown",
   "id": "36745429-d5af-46d2-b5d3-eb9b6c10d7e3",
   "metadata": {},
   "source": [
    "## 100 bootstraps"
   ]
  },
  {
   "cell_type": "code",
   "execution_count": 19,
   "id": "71aadb46-fa52-4727-9538-7e0419f7ff73",
   "metadata": {},
   "outputs": [
    {
     "name": "stderr",
     "output_type": "stream",
     "text": [
      "100%|██████████| 100/100 [00:06<00:00, 14.77it/s]\n"
     ]
    }
   ],
   "source": [
    "boot_test_reward = Parallel(n_jobs=6)(delayed(bootstrap_test)(i, test_episodes_O) for i in tqdm(range(100)))"
   ]
  },
  {
   "cell_type": "code",
   "execution_count": 20,
   "id": "48ea391f-2d0c-41db-a069-3d7a9fcb5c6a",
   "metadata": {},
   "outputs": [
    {
     "name": "stderr",
     "output_type": "stream",
     "text": [
      "100%|██████████| 100/100 [06:18<00:00,  3.78s/it]\n"
     ]
    }
   ],
   "source": [
    "boot_test_wis_1, boot_test_ess_1 = zip(*Parallel(n_jobs=6)(delayed(bootstrap_WIS_1)(i, test_episodes_O) for i in tqdm(range(100))))"
   ]
  },
  {
   "cell_type": "code",
   "execution_count": 21,
   "id": "c716e078-0c51-4378-aa2b-40cbf6f15f70",
   "metadata": {},
   "outputs": [
    {
     "name": "stderr",
     "output_type": "stream",
     "text": [
      "100%|██████████| 100/100 [05:51<00:00,  3.52s/it]\n"
     ]
    }
   ],
   "source": [
    "boot_test_wis_2, boot_test_ess_2 = zip(*Parallel(n_jobs=6)(delayed(bootstrap_WIS_2)(i, test_episodes_O) for i in tqdm(range(100))))"
   ]
  },
  {
   "cell_type": "code",
   "execution_count": 22,
   "id": "c99e5042-5d1e-41a4-a06e-e6c32495a995",
   "metadata": {},
   "outputs": [
    {
     "name": "stdout",
     "output_type": "stream",
     "text": [
      "Observed Test \t WIS: 90.29 (89.09, 91.05) \t ESS: 2894.00\n",
      "Baseline BCQ \t WIS: 90.44 (85.95, 94.12) \t ESS: 178.32 (157.02, 199.87)\n",
      "Factored BCQ \t WIS: 91.62 (86.79, 95.04) \t ESS: 178.32 (155.87, 198.88)\n"
     ]
    }
   ],
   "source": [
    "print(f'Observed Test \\t ' + \n",
    "      f'WIS: {test_episodes_O.reward.sum(axis=1).mean():.2f} ({np.quantile(boot_test_reward, 0.025):.2f}, {np.quantile(boot_test_reward, 0.975):.2f}) \\t ' +\n",
    "      f'ESS: {test_episodes_O.reward.shape[0]:.2f}')\n",
    "print(f'Baseline BCQ \\t ' + \n",
    "      f'WIS: {test_wis_1:.2f} ({np.quantile(boot_test_wis_1, 0.025):.2f}, {np.quantile(boot_test_wis_1, 0.975):.2f}) \\t ' +\n",
    "      f'ESS: {test_ess_1:.2f} ({np.quantile(boot_test_ess_1, 0.025):.2f}, {np.quantile(boot_test_ess_1, 0.975):.2f})')\n",
    "print(f'Factored BCQ \\t ' + \n",
    "      f'WIS: {test_wis_2:.2f} ({np.quantile(boot_test_wis_2, 0.025):.2f}, {np.quantile(boot_test_wis_2, 0.975):.2f}) \\t ' +\n",
    "      f'ESS: {test_ess_2:.2f} ({np.quantile(boot_test_ess_2, 0.025):.2f}, {np.quantile(boot_test_ess_2, 0.975):.2f})')"
   ]
  },
  {
   "cell_type": "code",
   "execution_count": 24,
   "id": "d882b9c2-9d72-4081-bb21-67a1e1313753",
   "metadata": {},
   "outputs": [
    {
     "name": "stdout",
     "output_type": "stream",
     "text": [
      "Observed Test \t WIS: 90.29 ± 0.51 \t ESS: 2894.00\n",
      "Baseline BCQ \t WIS: 90.44 ± 2.44 \t ESS: 178.32 ± 11.42\n",
      "Factored BCQ \t WIS: 91.62 ± 2.12 \t ESS: 178.32 ± 11.96\n"
     ]
    }
   ],
   "source": [
    "print(f'Observed Test \\t ' + \n",
    "      f'WIS: {test_episodes_O.reward.sum(axis=1).mean():.2f} ± {np.std(boot_test_reward):.2f} \\t ' +\n",
    "      f'ESS: {test_episodes_O.reward.shape[0]:.2f}')\n",
    "print(f'Baseline BCQ \\t ' + \n",
    "      f'WIS: {test_wis_1:.2f} ± {np.std(boot_test_wis_1):.2f} \\t ' +\n",
    "      f'ESS: {test_ess_1:.2f} ± {np.std(boot_test_ess_1):.2f}')\n",
    "print(f'Factored BCQ \\t ' + \n",
    "      f'WIS: {test_wis_2:.2f} ± {np.std(boot_test_wis_2):.2f} \\t ' +\n",
    "      f'ESS: {test_ess_2:.2f} ± {np.std(boot_test_ess_2):.2f}')"
   ]
  },
  {
   "cell_type": "code",
   "execution_count": 25,
   "id": "fa770741-ede1-4e40-ad9e-979c13ee7f04",
   "metadata": {},
   "outputs": [
    {
     "data": {
      "text/plain": [
       "1.0"
      ]
     },
     "execution_count": 25,
     "metadata": {},
     "output_type": "execute_result"
    }
   ],
   "source": [
    "(boot_test_wis_1 < boot_test_wis_2).mean()"
   ]
  },
  {
   "cell_type": "code",
   "execution_count": null,
   "id": "641290d7-a96d-4495-9a17-7f0ba209bae4",
   "metadata": {},
   "outputs": [],
   "source": []
  }
 ],
 "metadata": {
  "kernelspec": {
   "display_name": "py39_lightning",
   "language": "python",
   "name": "py39_lightning"
  },
  "language_info": {
   "codemirror_mode": {
    "name": "ipython",
    "version": 3
   },
   "file_extension": ".py",
   "mimetype": "text/x-python",
   "name": "python",
   "nbconvert_exporter": "python",
   "pygments_lexer": "ipython3",
   "version": "3.9.7"
  }
 },
 "nbformat": 4,
 "nbformat_minor": 5
}
