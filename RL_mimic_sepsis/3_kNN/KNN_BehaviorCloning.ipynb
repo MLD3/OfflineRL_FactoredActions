{
 "cells": [
  {
   "cell_type": "code",
   "execution_count": 1,
   "id": "90f6bf1a-0816-41ef-b378-7e022481eaab",
   "metadata": {},
   "outputs": [],
   "source": [
    "import numpy as np\n",
    "import pandas as pd\n",
    "import torch\n",
    "import matplotlib.pyplot as plt\n",
    "from sklearn.neighbors import KNeighborsClassifier"
   ]
  },
  {
   "cell_type": "code",
   "execution_count": 2,
   "id": "ca0f92a4-8ceb-446e-b331-b270be18d745",
   "metadata": {},
   "outputs": [],
   "source": [
    "train_data = torch.load('../data/episodes+encoded_state/train_data.pt')\n",
    "val_data = torch.load('../data/episodes+encoded_state/val_data.pt')\n",
    "test_data = torch.load('../data/episodes+encoded_state/test_data.pt')"
   ]
  },
  {
   "cell_type": "code",
   "execution_count": 3,
   "id": "442e426f-3ef8-4c4f-a29c-e8670c3ae6ff",
   "metadata": {},
   "outputs": [
    {
     "data": {
      "text/plain": [
       "dict_keys(['index', 'icustayids', 'lengths', 'times', 'notdones', 'demographics', 'observations', 'acuities', 'rewards', 'actions', 'actionvecs', 'subactions', 'subactionvecs', 'statevecs'])"
      ]
     },
     "execution_count": 3,
     "metadata": {},
     "output_type": "execute_result"
    }
   ],
   "source": [
    "train_data.keys()"
   ]
  },
  {
   "cell_type": "code",
   "execution_count": 4,
   "id": "14f26edf-82bf-4cab-b437-773df2c95cbc",
   "metadata": {},
   "outputs": [
    {
     "name": "stdout",
     "output_type": "stream",
     "text": [
      "13498 2895 2894\n"
     ]
    }
   ],
   "source": [
    "print(len(train_data['icustayids']), len(val_data['icustayids']), len(test_data['icustayids']))"
   ]
  },
  {
   "cell_type": "markdown",
   "id": "d8dee944-51b6-4714-b45f-6352790a9591",
   "metadata": {},
   "source": [
    "## Make flattened (S,A) dataset from episodic dataset"
   ]
  },
  {
   "cell_type": "code",
   "execution_count": 5,
   "id": "b04cad2a-ff08-4669-a76d-4e07deda9f03",
   "metadata": {},
   "outputs": [
    {
     "name": "stdout",
     "output_type": "stream",
     "text": [
      "(165713, 64) (165713,)\n"
     ]
    }
   ],
   "source": [
    "train_statevecs, train_actions = [], []\n",
    "for i in range(len(train_data['icustayids'])):\n",
    "    lng = train_data['lengths'][i]\n",
    "    train_statevecs.append(train_data['statevecs'][i][:lng-1].numpy())\n",
    "    train_actions.append(train_data['actions'][i][1:lng].numpy())\n",
    "\n",
    "train_statevecs = np.vstack(train_statevecs)\n",
    "train_actions = np.concatenate(train_actions)\n",
    "print(train_statevecs.shape, train_actions.shape)"
   ]
  },
  {
   "cell_type": "code",
   "execution_count": 6,
   "id": "de1a4797-649d-426b-87c3-3df52a785485",
   "metadata": {},
   "outputs": [
    {
     "name": "stdout",
     "output_type": "stream",
     "text": [
      "(35388, 64) (35388,)\n"
     ]
    }
   ],
   "source": [
    "val_statevecs, val_actions = [], []\n",
    "for i in range(len(val_data['icustayids'])):\n",
    "    lng = val_data['lengths'][i]\n",
    "    val_statevecs.append(val_data['statevecs'][i][:lng-1].numpy())\n",
    "    val_actions.append(val_data['actions'][i][1:lng].numpy())\n",
    "\n",
    "val_statevecs = np.vstack(val_statevecs)\n",
    "val_actions = np.concatenate(val_actions)\n",
    "print(val_statevecs.shape, val_actions.shape)"
   ]
  },
  {
   "cell_type": "code",
   "execution_count": 7,
   "id": "2a0a4001-8f32-40e7-9c0c-6224bebf2421",
   "metadata": {},
   "outputs": [
    {
     "name": "stdout",
     "output_type": "stream",
     "text": [
      "(35846, 64) (35846,)\n"
     ]
    }
   ],
   "source": [
    "test_statevecs, test_actions = [], []\n",
    "for i in range(len(test_data['icustayids'])):\n",
    "    lng = test_data['lengths'][i]\n",
    "    test_statevecs.append(test_data['statevecs'][i][:lng-1].numpy())\n",
    "    test_actions.append(test_data['actions'][i][1:lng].numpy())\n",
    "\n",
    "test_statevecs = np.vstack(test_statevecs)\n",
    "test_actions = np.concatenate(test_actions)\n",
    "print(test_statevecs.shape, test_actions.shape)"
   ]
  },
  {
   "cell_type": "markdown",
   "id": "11877f37-971a-4659-8468-ec7961c2a7f5",
   "metadata": {},
   "source": [
    "## KNN behavior policy"
   ]
  },
  {
   "cell_type": "code",
   "execution_count": 8,
   "id": "f7e38e9c-a330-4fe6-bf12-69125f1be3a5",
   "metadata": {},
   "outputs": [],
   "source": [
    "K = 100"
   ]
  },
  {
   "cell_type": "code",
   "execution_count": 9,
   "id": "26c5b325-4cbd-435a-b509-3f67e4badf6e",
   "metadata": {},
   "outputs": [],
   "source": [
    "clf_train = KNeighborsClassifier(K)\n",
    "clf_train.fit(train_statevecs, train_actions)\n",
    "train_pibs = clf_train.predict_proba(train_statevecs)\n",
    "train_estm_pibs = train_pibs"
   ]
  },
  {
   "cell_type": "code",
   "execution_count": 10,
   "id": "f950acac-9fdc-45f0-9f5e-84ed4d240fce",
   "metadata": {},
   "outputs": [],
   "source": [
    "clf_val = KNeighborsClassifier(K)\n",
    "clf_val.fit(val_statevecs, val_actions)\n",
    "val_pibs = clf_val.predict_proba(val_statevecs)\n",
    "val_estm_pibs = clf_train.predict_proba(val_statevecs)"
   ]
  },
  {
   "cell_type": "code",
   "execution_count": 11,
   "id": "3438e403-5b74-4f2b-99db-802163aa74af",
   "metadata": {},
   "outputs": [],
   "source": [
    "clf_test = KNeighborsClassifier(K)\n",
    "clf_test.fit(test_statevecs, test_actions)\n",
    "test_pibs = clf_test.predict_proba(test_statevecs)\n",
    "test_estm_pibs = clf_train.predict_proba(test_statevecs)"
   ]
  },
  {
   "cell_type": "code",
   "execution_count": 12,
   "id": "e96323a6-d70c-4ef4-9365-27bf83c94f63",
   "metadata": {},
   "outputs": [],
   "source": [
    "with open('../data/knn_output.npz', 'wb') as f:\n",
    "    np.savez(\n",
    "        f,\n",
    "        train_pibs=train_pibs,\n",
    "        train_estm_pibs=train_estm_pibs,\n",
    "        val_pibs=val_pibs,\n",
    "        val_estm_pibs=val_estm_pibs,\n",
    "        test_pibs=test_pibs,\n",
    "        test_estm_pibs=test_estm_pibs,\n",
    "    )"
   ]
  },
  {
   "cell_type": "markdown",
   "id": "d925079f-953c-477f-ad00-d747bacdd4c5",
   "metadata": {},
   "source": [
    "## Assign KNN results back to episodes"
   ]
  },
  {
   "cell_type": "code",
   "execution_count": 13,
   "id": "6fa8ab47-3ab8-4227-bd5a-bc255c869690",
   "metadata": {},
   "outputs": [],
   "source": [
    "train_data['pibs'] = torch.zeros_like(train_data['actionvecs'])\n",
    "train_data['estm_pibs'] = torch.zeros_like(train_data['actionvecs'])\n",
    "ptr = 0\n",
    "for i in range(len(train_data['icustayids'])):\n",
    "    lng = train_data['lengths'][i]\n",
    "    train_data['pibs'][i, :lng-1, :] = torch.tensor(train_pibs[ptr:ptr+lng-1])\n",
    "    train_data['estm_pibs'][i, :lng-1, :] = torch.tensor(train_estm_pibs[ptr:ptr+lng-1])\n",
    "    ptr += lng-1"
   ]
  },
  {
   "cell_type": "code",
   "execution_count": 14,
   "id": "2073f034-8bb8-4a5d-bca8-0c1136ed47f5",
   "metadata": {},
   "outputs": [],
   "source": [
    "val_data['pibs'] = torch.zeros_like(val_data['actionvecs'])\n",
    "val_data['estm_pibs'] = torch.zeros_like(val_data['actionvecs'])\n",
    "ptr = 0\n",
    "for i in range(len(val_data['icustayids'])):\n",
    "    lng = val_data['lengths'][i]\n",
    "    val_data['pibs'][i, :lng-1, :] = torch.tensor(val_pibs[ptr:ptr+lng-1])\n",
    "    val_data['estm_pibs'][i, :lng-1, :] = torch.tensor(val_estm_pibs[ptr:ptr+lng-1])\n",
    "    ptr += lng-1"
   ]
  },
  {
   "cell_type": "code",
   "execution_count": 15,
   "id": "eaea8639-10d3-4ba5-87ce-b3f6afc1d4d1",
   "metadata": {},
   "outputs": [],
   "source": [
    "test_data['pibs'] = torch.zeros_like(test_data['actionvecs'])\n",
    "test_data['estm_pibs'] = torch.zeros_like(test_data['actionvecs'])\n",
    "ptr = 0\n",
    "for i in range(len(test_data['icustayids'])):\n",
    "    lng = test_data['lengths'][i]\n",
    "    test_data['pibs'][i, :lng-1, :] = torch.tensor(test_pibs[ptr:ptr+lng-1])\n",
    "    test_data['estm_pibs'][i, :lng-1, :] = torch.tensor(test_estm_pibs[ptr:ptr+lng-1])\n",
    "    ptr += lng-1"
   ]
  },
  {
   "cell_type": "code",
   "execution_count": 16,
   "id": "653979da-1291-4328-8bd1-4ec35074169a",
   "metadata": {},
   "outputs": [],
   "source": [
    "# Check consistency of sample size of outputs\n",
    "for data in [train_data, val_data, test_data]:\n",
    "    num_episodes = len(data['index'])\n",
    "    for k, v in data.items():\n",
    "        assert len(v) == num_episodes"
   ]
  },
  {
   "cell_type": "code",
   "execution_count": 17,
   "id": "5ef57462-0dc7-45da-9ec1-b64b580bd867",
   "metadata": {},
   "outputs": [],
   "source": [
    "torch.save(train_data, '../data/episodes+encoded_state+knn_pibs/train_data.pt')\n",
    "torch.save(val_data, '../data/episodes+encoded_state+knn_pibs/val_data.pt')\n",
    "torch.save(test_data, '../data/episodes+encoded_state+knn_pibs/test_data.pt')"
   ]
  },
  {
   "cell_type": "code",
   "execution_count": 18,
   "id": "1a79ad54-0c67-439f-8996-8c444f40618e",
   "metadata": {},
   "outputs": [],
   "source": [
    "# Check consistency of episode length and feature vector\n",
    "for i in range(100):\n",
    "    lng = train_data['lengths'][i]\n",
    "    assert (train_data['observations'][i][lng:] == 0).all()\n",
    "    assert (train_data['pibs'][i][lng-1:] == 0).all()\n",
    "    assert (train_data['estm_pibs'][i][lng-1:] == 0).all()"
   ]
  },
  {
   "cell_type": "code",
   "execution_count": null,
   "id": "aed5d7b3-b9df-4897-a528-c9b39b6a521f",
   "metadata": {},
   "outputs": [],
   "source": []
  }
 ],
 "metadata": {
  "kernelspec": {
   "display_name": "py39_lightning",
   "language": "python",
   "name": "py39_lightning"
  },
  "language_info": {
   "codemirror_mode": {
    "name": "ipython",
    "version": 3
   },
   "file_extension": ".py",
   "mimetype": "text/x-python",
   "name": "python",
   "nbconvert_exporter": "python",
   "pygments_lexer": "ipython3",
   "version": "3.9.7"
  }
 },
 "nbformat": 4,
 "nbformat_minor": 5
}
