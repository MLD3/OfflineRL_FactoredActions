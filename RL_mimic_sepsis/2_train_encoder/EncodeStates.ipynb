{
 "cells": [
  {
   "cell_type": "code",
   "execution_count": 1,
   "id": "97b9c938-9e52-4335-a7c2-c06f484ef867",
   "metadata": {},
   "outputs": [],
   "source": [
    "import torch\n",
    "from torch.utils.data import DataLoader, TensorDataset\n",
    "from data import *\n",
    "from model import AIS_LSTM"
   ]
  },
  {
   "cell_type": "code",
   "execution_count": 2,
   "id": "1150813c-ef71-4636-8046-c1779bfad25b",
   "metadata": {},
   "outputs": [
    {
     "data": {
      "text/plain": [
       "AIS_LSTM(\n",
       "  (gen): Sequential(\n",
       "    (0): Linear(in_features=63, out_features=128, bias=True)\n",
       "    (1): ReLU()\n",
       "    (2): Linear(in_features=128, out_features=128, bias=True)\n",
       "    (3): ReLU()\n",
       "    (4): LSTM(128, 64, batch_first=True)\n",
       "    (5): ExtractRNNOutput()\n",
       "  )\n",
       "  (pred): Sequential(\n",
       "    (0): Linear(in_features=89, out_features=128, bias=True)\n",
       "    (1): ReLU()\n",
       "    (2): Linear(in_features=128, out_features=128, bias=True)\n",
       "    (3): ReLU()\n",
       "    (4): Linear(in_features=128, out_features=33, bias=True)\n",
       "  )\n",
       ")"
      ]
     },
     "execution_count": 2,
     "metadata": {},
     "output_type": "execute_result"
    }
   ],
   "source": [
    "# Load best model based on `Visualize.ipynb`\n",
    "model = AIS_LSTM.load_from_checkpoint(checkpoint_path='./logs/AIS_LSTM_model/version_15/checkpoints/epoch=203-step=21623.ckpt', map_location=None)\n",
    "model.eval()"
   ]
  },
  {
   "cell_type": "code",
   "execution_count": 3,
   "id": "d87a72c3-c1c6-4aff-a62b-b96054e63876",
   "metadata": {},
   "outputs": [],
   "source": [
    "train_data = torch.load(train_data_file)\n",
    "val_data = torch.load(val_data_file)\n",
    "test_data = torch.load(test_data_file)"
   ]
  },
  {
   "cell_type": "code",
   "execution_count": 4,
   "id": "22f3110c-2c94-4c53-93be-50155a16ced0",
   "metadata": {},
   "outputs": [],
   "source": [
    "# Check consistency of sample size before proceeding\n",
    "for data in [train_data, val_data, test_data]:\n",
    "    num_episodes = len(data['index'])\n",
    "    for k, v in data.items():\n",
    "        assert len(v) == num_episodes"
   ]
  },
  {
   "cell_type": "code",
   "execution_count": 5,
   "id": "cc602866-f854-4193-b80b-5e1e3d07d9e1",
   "metadata": {},
   "outputs": [],
   "source": [
    "train_dataset = TensorDataset(\n",
    "    train_data['demographics'], \n",
    "    train_data['observations'], \n",
    "    train_data['actionvecs'], \n",
    "    train_data['lengths'], \n",
    ")\n",
    "val_dataset = TensorDataset(\n",
    "    val_data['demographics'], \n",
    "    val_data['observations'], \n",
    "    val_data['actionvecs'], \n",
    "    val_data['lengths'], \n",
    ")\n",
    "test_dataset = TensorDataset(\n",
    "    test_data['demographics'], \n",
    "    test_data['observations'], \n",
    "    test_data['actionvecs'], \n",
    "    test_data['lengths'], \n",
    ")\n",
    "\n",
    "train_loader = DataLoader(train_dataset, batch_size=128, shuffle=False)\n",
    "val_loader = DataLoader(val_dataset, batch_size=128, shuffle=False)\n",
    "test_loader = DataLoader(test_dataset, batch_size=128, shuffle=False)"
   ]
  },
  {
   "cell_type": "code",
   "execution_count": 6,
   "id": "9f11feaf-3d1e-4d11-b474-f6398b35dad5",
   "metadata": {},
   "outputs": [],
   "source": [
    "# Encode all states\n",
    "all_encoded_states = []\n",
    "for dataloader in [train_loader, val_loader, test_loader]:\n",
    "    with torch.no_grad():\n",
    "        encoded_states = []\n",
    "        for dem, obs, act, lng in dataloader:\n",
    "            x = torch.cat([obs, dem, act], dim=-1)\n",
    "            z = model(x)\n",
    "            mask = (obs == 0).all(dim=2)\n",
    "            z[mask] = 0\n",
    "            encoded_states.append(z)\n",
    "\n",
    "    encoded_states = torch.cat(encoded_states, axis=0)\n",
    "    all_encoded_states.append(encoded_states)"
   ]
  },
  {
   "cell_type": "code",
   "execution_count": 7,
   "id": "a4a70a9e-1b0a-4dc6-a69d-2fded3852feb",
   "metadata": {},
   "outputs": [],
   "source": [
    "train_states, val_states, test_states = all_encoded_states"
   ]
  },
  {
   "cell_type": "code",
   "execution_count": 8,
   "id": "2f932882-06e3-4681-adcc-5d2cc3aa953c",
   "metadata": {},
   "outputs": [],
   "source": [
    "train_data['statevecs'] = train_states\n",
    "val_data['statevecs'] = val_states\n",
    "test_data['statevecs'] = test_states"
   ]
  },
  {
   "cell_type": "code",
   "execution_count": 9,
   "id": "daa77e0a-f1c4-4755-a6ca-8d1bc36af09f",
   "metadata": {},
   "outputs": [],
   "source": [
    "# Check consistency of sample size of outputs\n",
    "for data in [train_data, val_data, test_data]:\n",
    "    num_episodes = len(data['index'])\n",
    "    for k, v in data.items():\n",
    "        assert len(v) == num_episodes"
   ]
  },
  {
   "cell_type": "code",
   "execution_count": 10,
   "id": "4018681d-c966-4053-8d21-201121795143",
   "metadata": {},
   "outputs": [],
   "source": [
    "torch.save(train_data, '../data/episodes+encoded_state/train_data.pt')\n",
    "torch.save(val_data, '../data/episodes+encoded_state/val_data.pt')\n",
    "torch.save(test_data, '../data/episodes+encoded_state/test_data.pt')"
   ]
  },
  {
   "cell_type": "code",
   "execution_count": 11,
   "id": "e8074f08-b74a-4461-a111-8f38071346ab",
   "metadata": {},
   "outputs": [],
   "source": [
    "# Check consistency of episode length and feature vector\n",
    "for i in range(100):\n",
    "    lng = train_data['lengths'][i]\n",
    "    assert (train_data['observations'][i][lng:] == 0).all()\n",
    "    assert (train_data['statevecs'][i][lng:] == 0).all()"
   ]
  },
  {
   "cell_type": "code",
   "execution_count": null,
   "id": "e8fba628-d3dd-4be4-9759-5690d486ec7c",
   "metadata": {},
   "outputs": [],
   "source": []
  }
 ],
 "metadata": {
  "kernelspec": {
   "display_name": "py39_lightning",
   "language": "python",
   "name": "py39_lightning"
  },
  "language_info": {
   "codemirror_mode": {
    "name": "ipython",
    "version": 3
   },
   "file_extension": ".py",
   "mimetype": "text/x-python",
   "name": "python",
   "nbconvert_exporter": "python",
   "pygments_lexer": "ipython3",
   "version": "3.9.7"
  }
 },
 "nbformat": 4,
 "nbformat_minor": 5
}
