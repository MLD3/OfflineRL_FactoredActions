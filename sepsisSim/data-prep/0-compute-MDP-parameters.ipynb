{
 "cells": [
  {
   "cell_type": "markdown",
   "metadata": {},
   "source": [
    "# Compute the exact transition matrix for the sepsis simulator v2\n",
    "https://github.com/clinicalml/gumbel-max-scm/tree/854229e039b52f10257ad5460fa79d34f0452b27/sepsisSimDiabetes"
   ]
  },
  {
   "cell_type": "code",
   "execution_count": 1,
   "metadata": {},
   "outputs": [],
   "source": [
    "!mkdir '../data'"
   ]
  },
  {
   "cell_type": "code",
   "execution_count": 2,
   "metadata": {},
   "outputs": [],
   "source": [
    "# Apply transitions in the following order:\n",
    "# abx on/off\n",
    "# vent on/off\n",
    "# vaso on/off\n",
    "# hr fluctuate\n",
    "# sbp fluctuate\n",
    "# o2 fluctuate\n",
    "# glu fluctuate"
   ]
  },
  {
   "cell_type": "code",
   "execution_count": 3,
   "metadata": {},
   "outputs": [],
   "source": [
    "import numpy as np\n",
    "from sepsisSimDiabetes.State import State\n",
    "from sepsisSimDiabetes.Action import Action\n",
    "from sepsisSimDiabetes.MDP import MDP\n",
    "import itertools\n",
    "import joblib"
   ]
  },
  {
   "cell_type": "markdown",
   "metadata": {},
   "source": [
    "## Metadata"
   ]
  },
  {
   "cell_type": "code",
   "execution_count": 4,
   "metadata": {},
   "outputs": [],
   "source": [
    "# state_categs\n",
    "# [hr, sbp, o2, glu, abx, vent, vaso, diab]\n",
    "\n",
    "state_variable_values = {\n",
    "    'hr': [0,1,2], \n",
    "    'sbp': [0,1,2], \n",
    "    'o2': [0,1], \n",
    "    'glu': [0,1,2,3,4], \n",
    "    'abx': [0,1], \n",
    "    'vaso': [0,1], \n",
    "    'vent': [0,1], \n",
    "    'diab': [0,1],\n",
    "}\n",
    "state_variables = list(state_variable_values.keys())"
   ]
  },
  {
   "cell_type": "code",
   "execution_count": 5,
   "metadata": {},
   "outputs": [],
   "source": [
    "nS = 720\n",
    "nA = 8"
   ]
  },
  {
   "cell_type": "markdown",
   "metadata": {},
   "source": [
    "## Reward Matrix (A,S,S) (S,A)"
   ]
  },
  {
   "cell_type": "code",
   "execution_count": 6,
   "metadata": {},
   "outputs": [
    {
     "name": "stdout",
     "output_type": "stream",
     "text": [
      "303 non-terminal states\n",
      "416 death states\n",
      "1 discharge states\n"
     ]
    }
   ],
   "source": [
    "dummy_pol = np.ones((nS, nA)) / nA\n",
    "reward_per_state = np.zeros((nS))\n",
    "for s in range(nS):\n",
    "    this_mdp = MDP(init_state_idx=s, policy_array=dummy_pol, p_diabetes=0)\n",
    "    r = this_mdp.calculateReward()\n",
    "    reward_per_state[s] = r\n",
    "\n",
    "print((reward_per_state == 0).sum(), 'non-terminal states')\n",
    "print((reward_per_state == -1).sum(), 'death states')\n",
    "print((reward_per_state == 1).sum(), 'discharge states')"
   ]
  },
  {
   "cell_type": "code",
   "execution_count": 7,
   "metadata": {},
   "outputs": [],
   "source": [
    "reward_matrix_ASS = np.zeros((nA, nS*2, nS*2))\n",
    "for s in range(nS):\n",
    "    reward_matrix_ASS[:, :nS, s] = reward_per_state[s]\n",
    "    reward_matrix_ASS[:, nS:, nS+s] = reward_per_state[s]"
   ]
  },
  {
   "cell_type": "code",
   "execution_count": 8,
   "metadata": {},
   "outputs": [],
   "source": [
    "# Assign reward for the transition from death/disch\n",
    "reward_matrix_absorbing_SA = np.zeros((nS*2+2, nA))\n",
    "for s in range(nS):\n",
    "    if reward_per_state[s] == -1:\n",
    "        reward_matrix_absorbing_SA[s, :] = -1\n",
    "        reward_matrix_absorbing_SA[nS+s, :] = -1\n",
    "    elif reward_per_state[s] == 1:\n",
    "        reward_matrix_absorbing_SA[s, :] = 1\n",
    "        reward_matrix_absorbing_SA[nS+s, :] = 1"
   ]
  },
  {
   "cell_type": "code",
   "execution_count": 9,
   "metadata": {},
   "outputs": [],
   "source": [
    "reward_matrix_absorbing_ASS = np.zeros((nA, nS*2+2, nS*2+2))\n",
    "\n",
    "# Assign reward for the transition from death/disch leading to the corresponding absorbing state\n",
    "reward_matrix_absorbing_ASS[..., -2] = -1\n",
    "reward_matrix_absorbing_ASS[..., -1] = 1\n",
    "\n",
    "# No reward once in aborbing state\n",
    "reward_matrix_absorbing_ASS[..., -2, -2] = 0 \n",
    "reward_matrix_absorbing_ASS[..., -1, -1] = 0"
   ]
  },
  {
   "cell_type": "markdown",
   "metadata": {},
   "source": [
    "## Treatments"
   ]
  },
  {
   "cell_type": "markdown",
   "metadata": {},
   "source": [
    "### Antibiotics"
   ]
  },
  {
   "cell_type": "code",
   "execution_count": 10,
   "metadata": {},
   "outputs": [],
   "source": [
    "# abx indicator\n",
    "abx_on = np.zeros((nS, nS))\n",
    "abx_off = np.zeros((nS, nS))\n",
    "for (hr, sbp, o2, glu, vent, vaso, _) in itertools.product(\n",
    "    *[state_variable_values[key] for key in state_variables if key not in ['abx']]\n",
    "):\n",
    "    s0 = State(state_categs=[hr, sbp, o2, glu, 0, vaso, vent], diabetic_idx=0).get_state_idx()\n",
    "    s1 = State(state_categs=[hr, sbp, o2, glu, 1, vaso, vent], diabetic_idx=0).get_state_idx()\n",
    "    abx_on[s0, s1] = 1\n",
    "    abx_on[s1, s1] = 1\n",
    "    abx_off[s1, s0] = 1\n",
    "    abx_off[s0, s0] = 1\n",
    "\n",
    "assert np.isclose(abx_on.sum(axis=1), 1).all()\n",
    "assert np.isclose(abx_off.sum(axis=1), 1).all()"
   ]
  },
  {
   "cell_type": "code",
   "execution_count": 11,
   "metadata": {},
   "outputs": [],
   "source": [
    "# abx affects hr: high->normal wp 0.5\n",
    "hr_H2N_wp05 = np.zeros((nS, nS))\n",
    "for (sbp, o2, glu, abx, vent, vaso, _) in itertools.product(\n",
    "    *[state_variable_values[key] for key in state_variables if key not in ['hr']]\n",
    "):\n",
    "    s0 = State(state_categs=[0, sbp, o2, glu, abx, vaso, vent], diabetic_idx=0).get_state_idx()\n",
    "    s1 = State(state_categs=[1, sbp, o2, glu, abx, vaso, vent], diabetic_idx=0).get_state_idx()\n",
    "    s2 = State(state_categs=[2, sbp, o2, glu, abx, vaso, vent], diabetic_idx=0).get_state_idx()\n",
    "    hr_H2N_wp05[s2, s2] = 0.5\n",
    "    hr_H2N_wp05[s2, s1] = 0.5\n",
    "    hr_H2N_wp05[s1, s1] = 1\n",
    "    hr_H2N_wp05[s0, s0] = 1\n",
    "\n",
    "assert np.isclose(hr_H2N_wp05.sum(axis=1), 1).all()"
   ]
  },
  {
   "cell_type": "code",
   "execution_count": 12,
   "metadata": {},
   "outputs": [],
   "source": [
    "# abx affects sbp: high->normal wp 0.5\n",
    "sbp_H2N_wp05 = np.zeros((nS, nS))\n",
    "for (hr, o2, glu, abx, vent, vaso, _) in itertools.product(\n",
    "    *[state_variable_values[key] for key in state_variables if key not in ['sbp']]\n",
    "):\n",
    "    s0 = State(state_categs=[hr, 0, o2, glu, abx, vaso, vent], diabetic_idx=0).get_state_idx()\n",
    "    s1 = State(state_categs=[hr, 1, o2, glu, abx, vaso, vent], diabetic_idx=0).get_state_idx()\n",
    "    s2 = State(state_categs=[hr, 2, o2, glu, abx, vaso, vent], diabetic_idx=0).get_state_idx()\n",
    "    sbp_H2N_wp05[s2, s2] = 0.5\n",
    "    sbp_H2N_wp05[s2, s1] = 0.5\n",
    "    sbp_H2N_wp05[s1, s1] = 1\n",
    "    sbp_H2N_wp05[s0, s0] = 1\n",
    "\n",
    "assert np.isclose(sbp_H2N_wp05.sum(axis=1), 1).all()"
   ]
  },
  {
   "cell_type": "code",
   "execution_count": 13,
   "metadata": {},
   "outputs": [],
   "source": [
    "# abx withdrawn affects hr: normal->high wp 0.1\n",
    "hr_N2H_wp01 = np.zeros((nS, nS))\n",
    "for (sbp, o2, glu, abx, vent, vaso, _) in itertools.product(\n",
    "    *[state_variable_values[key] for key in state_variables if key not in ['hr']]\n",
    "):\n",
    "    s0 = State(state_categs=[0, sbp, o2, glu, abx, vaso, vent], diabetic_idx=0).get_state_idx()\n",
    "    s1 = State(state_categs=[1, sbp, o2, glu, abx, vaso, vent], diabetic_idx=0).get_state_idx()\n",
    "    s2 = State(state_categs=[2, sbp, o2, glu, abx, vaso, vent], diabetic_idx=0).get_state_idx()\n",
    "    s0_0 = State(state_categs=[0, sbp, o2, glu, 0, vaso, vent], diabetic_idx=0).get_state_idx()\n",
    "    s1_0 = State(state_categs=[1, sbp, o2, glu, 0, vaso, vent], diabetic_idx=0).get_state_idx()\n",
    "    s2_0 = State(state_categs=[2, sbp, o2, glu, 0, vaso, vent], diabetic_idx=0).get_state_idx()\n",
    "    s0_1 = State(state_categs=[0, sbp, o2, glu, 1, vaso, vent], diabetic_idx=0).get_state_idx()\n",
    "    s1_1 = State(state_categs=[1, sbp, o2, glu, 1, vaso, vent], diabetic_idx=0).get_state_idx()\n",
    "    s2_1 = State(state_categs=[2, sbp, o2, glu, 1, vaso, vent], diabetic_idx=0).get_state_idx()\n",
    "    hr_N2H_wp01[s2, s2] = 1\n",
    "    hr_N2H_wp01[s1_1, s1_1] = 0.9\n",
    "    hr_N2H_wp01[s1_1, s2_1] = 0.1\n",
    "    hr_N2H_wp01[s1_0, s1_0] = 1\n",
    "    hr_N2H_wp01[s0, s0] = 1\n",
    "\n",
    "assert np.isclose(hr_N2H_wp01.sum(axis=1), 1).all()"
   ]
  },
  {
   "cell_type": "code",
   "execution_count": 14,
   "metadata": {},
   "outputs": [],
   "source": [
    "# abx withdrawn affects sbp: normal->high wp 0.1\n",
    "sbp_N2H_wp01 = np.zeros((nS, nS))\n",
    "for (hr, o2, glu, abx, vent, vaso, _) in itertools.product(\n",
    "    *[state_variable_values[key] for key in state_variables if key not in ['sbp']]\n",
    "):\n",
    "    s0 = State(state_categs=[hr, 0, o2, glu, abx, vaso, vent], diabetic_idx=0).get_state_idx()\n",
    "    s1 = State(state_categs=[hr, 1, o2, glu, abx, vaso, vent], diabetic_idx=0).get_state_idx()\n",
    "    s2 = State(state_categs=[hr, 2, o2, glu, abx, vaso, vent], diabetic_idx=0).get_state_idx()\n",
    "    s0_0 = State(state_categs=[hr, 0, o2, glu, 0, vaso, vent], diabetic_idx=0).get_state_idx()\n",
    "    s1_0 = State(state_categs=[hr, 1, o2, glu, 0, vaso, vent], diabetic_idx=0).get_state_idx()\n",
    "    s2_0 = State(state_categs=[hr, 2, o2, glu, 0, vaso, vent], diabetic_idx=0).get_state_idx()\n",
    "    s0_1 = State(state_categs=[hr, 0, o2, glu, 1, vaso, vent], diabetic_idx=0).get_state_idx()\n",
    "    s1_1 = State(state_categs=[hr, 1, o2, glu, 1, vaso, vent], diabetic_idx=0).get_state_idx()\n",
    "    s2_1 = State(state_categs=[hr, 2, o2, glu, 1, vaso, vent], diabetic_idx=0).get_state_idx()\n",
    "    sbp_N2H_wp01[s2, s2] = 1\n",
    "    sbp_N2H_wp01[s1_1, s1_1] = 0.9\n",
    "    sbp_N2H_wp01[s1_1, s2_1] = 0.1\n",
    "    sbp_N2H_wp01[s1_0, s1_0] = 1\n",
    "    sbp_N2H_wp01[s0, s0] = 1\n",
    "\n",
    "assert np.isclose(sbp_N2H_wp01.sum(axis=1), 1).all()"
   ]
  },
  {
   "cell_type": "code",
   "execution_count": 15,
   "metadata": {},
   "outputs": [],
   "source": [
    "# antibiotics on\n",
    "# hr: hi -> normal w.p. 0.5\n",
    "# sbp: hi -> normal w.p. 0.5\n",
    "antibiotics_on_ = hr_H2N_wp05 @ sbp_H2N_wp05 @ abx_on\n",
    "antibiotics_on = np.block([[antibiotics_on_, np.zeros((nS, nS))], [np.zeros((nS, nS)), antibiotics_on_]])\n",
    "assert np.isclose(antibiotics_on.sum(axis=1), 1).all()\n",
    "\n",
    "# antibiotics off\n",
    "# if antibiotics was on\n",
    "# hr: normal -> hi w.p. 0.1\n",
    "# sbp: normal -> hi w.p. 0.1\n",
    "antibiotics_off_ = hr_N2H_wp01 @ sbp_N2H_wp01 @ abx_off\n",
    "antibiotics_off = np.block([[antibiotics_off_, np.zeros((nS, nS))], [np.zeros((nS, nS)), antibiotics_off_]])\n",
    "assert np.isclose(antibiotics_off.sum(axis=1), 1).all()"
   ]
  },
  {
   "cell_type": "markdown",
   "metadata": {},
   "source": [
    "### Ventilation"
   ]
  },
  {
   "cell_type": "code",
   "execution_count": 16,
   "metadata": {},
   "outputs": [],
   "source": [
    "# vent indicator\n",
    "vent_on = np.zeros((nS, nS))\n",
    "vent_off = np.zeros((nS, nS))\n",
    "for (hr, sbp, o2, glu, abx, vaso, _) in itertools.product(\n",
    "    *[state_variable_values[key] for key in state_variables if key not in ['vent']]\n",
    "):\n",
    "    s0 = State(state_categs=[hr, sbp, o2, glu, abx, vaso, 0], diabetic_idx=0).get_state_idx()\n",
    "    s1 = State(state_categs=[hr, sbp, o2, glu, abx, vaso, 1], diabetic_idx=0).get_state_idx()\n",
    "    vent_on[s0, s1] = 1\n",
    "    vent_on[s1, s1] = 1\n",
    "    vent_off[s1, s0] = 1\n",
    "    vent_off[s0, s0] = 1\n",
    "\n",
    "assert np.isclose(vent_on.sum(axis=1), 1).all()\n",
    "assert np.isclose(vent_off.sum(axis=1), 1).all()"
   ]
  },
  {
   "cell_type": "code",
   "execution_count": 17,
   "metadata": {},
   "outputs": [],
   "source": [
    "# vent affects o2: low->normal wp 0.7\n",
    "o2_L2N_wp07 = np.zeros((nS, nS))\n",
    "for (hr, sbp, glu, abx, vent, vaso, _) in itertools.product(\n",
    "    *[state_variable_values[key] for key in state_variables if key not in ['o2']]\n",
    "):\n",
    "    s0 = State(state_categs=[hr, sbp, 0, glu, abx, vaso, vent], diabetic_idx=0).get_state_idx()\n",
    "    s1 = State(state_categs=[hr, sbp, 1, glu, abx, vaso, vent], diabetic_idx=0).get_state_idx()\n",
    "    o2_L2N_wp07[s0, s0] = 0.3\n",
    "    o2_L2N_wp07[s0, s1] = 0.7\n",
    "    o2_L2N_wp07[s1, s1] = 1\n",
    "\n",
    "assert np.isclose(o2_L2N_wp07.sum(axis=1), 1).all()"
   ]
  },
  {
   "cell_type": "code",
   "execution_count": 18,
   "metadata": {},
   "outputs": [],
   "source": [
    "# vent withdrawn affects o2: normal->low wp 0.1\n",
    "o2_N2L_wp01 = np.zeros((nS, nS))\n",
    "for (hr, sbp, glu, abx, vent, vaso, _) in itertools.product(\n",
    "    *[state_variable_values[key] for key in state_variables if key not in ['o2']]\n",
    "):\n",
    "    s0 = State(state_categs=[hr, sbp, 0, glu, abx, vaso, vent], diabetic_idx=0).get_state_idx()\n",
    "    s1 = State(state_categs=[hr, sbp, 1, glu, abx, vaso, vent], diabetic_idx=0).get_state_idx()\n",
    "    s0_0 = State(state_categs=[hr, sbp, 0, glu, abx, vaso, 0], diabetic_idx=0).get_state_idx()\n",
    "    s1_0 = State(state_categs=[hr, sbp, 1, glu, abx, vaso, 0], diabetic_idx=0).get_state_idx()\n",
    "    s0_1 = State(state_categs=[hr, sbp, 0, glu, abx, vaso, 1], diabetic_idx=0).get_state_idx()\n",
    "    s1_1 = State(state_categs=[hr, sbp, 1, glu, abx, vaso, 1], diabetic_idx=0).get_state_idx()\n",
    "    o2_N2L_wp01[s0_0, s0_0] = 1\n",
    "    o2_N2L_wp01[s0_1, s0_1] = 1\n",
    "    o2_N2L_wp01[s1_0, s1_0] = 1\n",
    "    o2_N2L_wp01[s1_1, s0_1] = 0.1\n",
    "    o2_N2L_wp01[s1_1, s1_1] = 0.9\n",
    "\n",
    "assert np.isclose(o2_N2L_wp01.sum(axis=1), 1).all()"
   ]
  },
  {
   "cell_type": "code",
   "execution_count": 19,
   "metadata": {},
   "outputs": [],
   "source": [
    "ventilation_on_ = o2_L2N_wp07 @ vent_on\n",
    "ventilation_off_ = o2_N2L_wp01 @ vent_off\n",
    "ventilation_on = np.block([[ventilation_on_, np.zeros((nS, nS))], [np.zeros((nS, nS)), ventilation_on_]])\n",
    "ventilation_off = np.block([[ventilation_off_, np.zeros((nS, nS))], [np.zeros((nS, nS)), ventilation_off_]])\n",
    "assert np.isclose(ventilation_on.sum(axis=1), 1).all()\n",
    "assert np.isclose(ventilation_off.sum(axis=1), 1).all()"
   ]
  },
  {
   "cell_type": "markdown",
   "metadata": {},
   "source": [
    "### Vasopressor"
   ]
  },
  {
   "cell_type": "code",
   "execution_count": 20,
   "metadata": {},
   "outputs": [],
   "source": [
    "# vaso indicator\n",
    "vaso_on = np.zeros((nS, nS))\n",
    "vaso_off = np.zeros((nS, nS))\n",
    "for (hr, sbp, o2, glu, abx, vent, _) in itertools.product(\n",
    "    *[state_variable_values[key] for key in state_variables if key not in ['vaso']]\n",
    "):\n",
    "    s0 = State(state_categs=[hr, sbp, o2, glu, abx, 0, vent], diabetic_idx=0).get_state_idx()\n",
    "    s1 = State(state_categs=[hr, sbp, o2, glu, abx, 1, vent], diabetic_idx=0).get_state_idx()\n",
    "    vaso_on[s0, s1] = 1\n",
    "    vaso_on[s1, s1] = 1\n",
    "    vaso_off[s1, s0] = 1\n",
    "    vaso_off[s0, s0] = 1\n",
    "\n",
    "assert np.isclose(vaso_on.sum(axis=1), 1).all()\n",
    "assert np.isclose(vaso_off.sum(axis=1), 1).all()"
   ]
  },
  {
   "cell_type": "code",
   "execution_count": 21,
   "metadata": {},
   "outputs": [],
   "source": [
    "# vaso affects sbp (non-diabetic)\n",
    "# low->normal wp 0.7, normal->high wp 0.7\n",
    "sbp_L2N_N2H_wp07 = np.zeros((nS, nS))\n",
    "for (hr, o2, glu, abx, vent, vaso, _) in itertools.product(\n",
    "    *[state_variable_values[key] for key in state_variables if key not in ['sbp']]\n",
    "):\n",
    "    s0 = State(state_categs=[hr, 0, o2, glu, abx, vaso, vent], diabetic_idx=0).get_state_idx()\n",
    "    s1 = State(state_categs=[hr, 1, o2, glu, abx, vaso, vent], diabetic_idx=0).get_state_idx()\n",
    "    s2 = State(state_categs=[hr, 2, o2, glu, abx, vaso, vent], diabetic_idx=0).get_state_idx()\n",
    "    sbp_L2N_N2H_wp07[s0, s0] = 0.3\n",
    "    sbp_L2N_N2H_wp07[s0, s1] = 0.7\n",
    "    sbp_L2N_N2H_wp07[s1, s1] = 0.3\n",
    "    sbp_L2N_N2H_wp07[s1, s2] = 0.7\n",
    "    sbp_L2N_N2H_wp07[s2, s2] = 1\n",
    "\n",
    "assert np.isclose(sbp_L2N_N2H_wp07.sum(axis=1), 1).all()"
   ]
  },
  {
   "cell_type": "code",
   "execution_count": 22,
   "metadata": {},
   "outputs": [],
   "source": [
    "# vaso affects sbp (diabetic)\n",
    "# low->normal wp 0.5, low->high wp 0.4, normal->high wp 0.9\n",
    "sbp_L2N2H = np.zeros((nS, nS))\n",
    "for (hr, o2, glu, abx, vent, vaso, _) in itertools.product(\n",
    "    *[state_variable_values[key] for key in state_variables if key not in ['sbp']]\n",
    "):\n",
    "    s0 = State(state_categs=[hr, 0, o2, glu, abx, vaso, vent], diabetic_idx=0).get_state_idx()\n",
    "    s1 = State(state_categs=[hr, 1, o2, glu, abx, vaso, vent], diabetic_idx=0).get_state_idx()\n",
    "    s2 = State(state_categs=[hr, 2, o2, glu, abx, vaso, vent], diabetic_idx=0).get_state_idx()\n",
    "    sbp_L2N2H[s0, s0] = 0.1\n",
    "    sbp_L2N2H[s0, s1] = 0.5\n",
    "    sbp_L2N2H[s0, s2] = 0.4\n",
    "    sbp_L2N2H[s1, s1] = 0.1\n",
    "    sbp_L2N2H[s1, s2] = 0.9\n",
    "    sbp_L2N2H[s2, s2] = 1\n",
    "\n",
    "assert np.isclose(sbp_L2N2H.sum(axis=1), 1).all()"
   ]
  },
  {
   "cell_type": "code",
   "execution_count": 23,
   "metadata": {},
   "outputs": [],
   "source": [
    "# vaso affects glu (diabetic)\n",
    "# LL->L, L->N, N->H, H->HH wp 0.5\n",
    "glu_raise_by_1 = np.zeros((nS, nS))\n",
    "for (hr, sbp, o2, abx, vent, vaso, _) in itertools.product(\n",
    "    *[state_variable_values[key] for key in state_variables if key not in ['glu']]\n",
    "):\n",
    "    s0 = State(state_categs=[hr, sbp, o2, 0, abx, vaso, vent], diabetic_idx=0).get_state_idx()\n",
    "    s1 = State(state_categs=[hr, sbp, o2, 1, abx, vaso, vent], diabetic_idx=0).get_state_idx()\n",
    "    s2 = State(state_categs=[hr, sbp, o2, 2, abx, vaso, vent], diabetic_idx=0).get_state_idx()\n",
    "    s3 = State(state_categs=[hr, sbp, o2, 3, abx, vaso, vent], diabetic_idx=0).get_state_idx()\n",
    "    s4 = State(state_categs=[hr, sbp, o2, 4, abx, vaso, vent], diabetic_idx=0).get_state_idx()\n",
    "    glu_raise_by_1[s0, s0] = 0.5\n",
    "    glu_raise_by_1[s0, s1] = 0.5\n",
    "    glu_raise_by_1[s1, s1] = 0.5\n",
    "    glu_raise_by_1[s1, s2] = 0.5\n",
    "    glu_raise_by_1[s2, s2] = 0.5\n",
    "    glu_raise_by_1[s2, s3] = 0.5\n",
    "    glu_raise_by_1[s3, s3] = 0.5\n",
    "    glu_raise_by_1[s3, s4] = 0.5\n",
    "    glu_raise_by_1[s4, s4] = 1\n",
    "\n",
    "assert np.isclose(glu_raise_by_1.sum(axis=1), 1).all()"
   ]
  },
  {
   "cell_type": "code",
   "execution_count": 24,
   "metadata": {},
   "outputs": [],
   "source": [
    "vasopressor_on = np.block([\n",
    "    [sbp_L2N_N2H_wp07 @ vaso_on, np.zeros((nS, nS))],\n",
    "    [np.zeros((nS, nS)), sbp_L2N2H @ glu_raise_by_1 @ vaso_on]\n",
    "])\n",
    "assert np.isclose(vasopressor_on.sum(axis=1), 1).all()"
   ]
  },
  {
   "cell_type": "code",
   "execution_count": 25,
   "metadata": {},
   "outputs": [],
   "source": [
    "# vaso withdrawn affects sbp (non-diabetic)\n",
    "# N->L, H->N wp 0.1\n",
    "sbp_H2N2L_wp01 = np.zeros((nS, nS))\n",
    "for (hr, o2, glu, abx, vent, vaso, _) in itertools.product(\n",
    "    *[state_variable_values[key] for key in state_variables if key not in ['sbp']]\n",
    "):\n",
    "    s0 = State(state_categs=[hr, 0, o2, glu, abx, vaso, vent], diabetic_idx=0).get_state_idx()\n",
    "    s1 = State(state_categs=[hr, 1, o2, glu, abx, vaso, vent], diabetic_idx=0).get_state_idx()\n",
    "    s2 = State(state_categs=[hr, 2, o2, glu, abx, vaso, vent], diabetic_idx=0).get_state_idx()\n",
    "    s0_0 = State(state_categs=[hr, 0, o2, glu, abx, 0, vent], diabetic_idx=0).get_state_idx()\n",
    "    s1_0 = State(state_categs=[hr, 1, o2, glu, abx, 0, vent], diabetic_idx=0).get_state_idx()\n",
    "    s2_0 = State(state_categs=[hr, 2, o2, glu, abx, 0, vent], diabetic_idx=0).get_state_idx()\n",
    "    s0_1 = State(state_categs=[hr, 0, o2, glu, abx, 1, vent], diabetic_idx=0).get_state_idx()\n",
    "    s1_1 = State(state_categs=[hr, 1, o2, glu, abx, 1, vent], diabetic_idx=0).get_state_idx()\n",
    "    s2_1 = State(state_categs=[hr, 2, o2, glu, abx, 1, vent], diabetic_idx=0).get_state_idx()\n",
    "    sbp_H2N2L_wp01[s0_0, s0_0] = 1\n",
    "    sbp_H2N2L_wp01[s0_1, s0_1] = 1\n",
    "    sbp_H2N2L_wp01[s1_0, s1_0] = 1\n",
    "    sbp_H2N2L_wp01[s1_1, s1_1] = 0.9\n",
    "    sbp_H2N2L_wp01[s1_1, s0_1] = 0.1\n",
    "    sbp_H2N2L_wp01[s2_0, s2_0] = 1\n",
    "    sbp_H2N2L_wp01[s2_1, s2_1] = 0.9\n",
    "    sbp_H2N2L_wp01[s2_1, s1_1] = 0.1\n",
    "\n",
    "assert np.isclose(sbp_H2N2L_wp01.sum(axis=1), 1).all()"
   ]
  },
  {
   "cell_type": "code",
   "execution_count": 26,
   "metadata": {},
   "outputs": [],
   "source": [
    "# vaso withdrawn affects sbp (diabetic)\n",
    "# N->L, H->N wp 0.05\n",
    "sbp_H2N2L_wp005 = np.zeros((nS, nS))\n",
    "for (hr, o2, glu, abx, vent, vaso, _) in itertools.product(\n",
    "    *[state_variable_values[key] for key in state_variables if key not in ['sbp']]\n",
    "):\n",
    "    s0 = State(state_categs=[hr, 0, o2, glu, abx, vaso, vent], diabetic_idx=0).get_state_idx()\n",
    "    s1 = State(state_categs=[hr, 1, o2, glu, abx, vaso, vent], diabetic_idx=0).get_state_idx()\n",
    "    s2 = State(state_categs=[hr, 2, o2, glu, abx, vaso, vent], diabetic_idx=0).get_state_idx()\n",
    "    s0_0 = State(state_categs=[hr, 0, o2, glu, abx, 0, vent], diabetic_idx=0).get_state_idx()\n",
    "    s1_0 = State(state_categs=[hr, 1, o2, glu, abx, 0, vent], diabetic_idx=0).get_state_idx()\n",
    "    s2_0 = State(state_categs=[hr, 2, o2, glu, abx, 0, vent], diabetic_idx=0).get_state_idx()\n",
    "    s0_1 = State(state_categs=[hr, 0, o2, glu, abx, 1, vent], diabetic_idx=0).get_state_idx()\n",
    "    s1_1 = State(state_categs=[hr, 1, o2, glu, abx, 1, vent], diabetic_idx=0).get_state_idx()\n",
    "    s2_1 = State(state_categs=[hr, 2, o2, glu, abx, 1, vent], diabetic_idx=0).get_state_idx()\n",
    "    sbp_H2N2L_wp005[s0_0, s0_0] = 1\n",
    "    sbp_H2N2L_wp005[s0_1, s0_1] = 1\n",
    "    sbp_H2N2L_wp005[s1_0, s1_0] = 1\n",
    "    sbp_H2N2L_wp005[s1_1, s1_1] = 0.95\n",
    "    sbp_H2N2L_wp005[s1_1, s0_1] = 0.05\n",
    "    sbp_H2N2L_wp005[s2_0, s2_0] = 1\n",
    "    sbp_H2N2L_wp005[s2_1, s2_1] = 0.95\n",
    "    sbp_H2N2L_wp005[s2_1, s1_1] = 0.05\n",
    "\n",
    "assert np.isclose(sbp_H2N2L_wp005.sum(axis=1), 1).all()"
   ]
  },
  {
   "cell_type": "code",
   "execution_count": 27,
   "metadata": {},
   "outputs": [],
   "source": [
    "vasopressor_off = np.block([\n",
    "    [sbp_H2N2L_wp01 @ vaso_off, np.zeros((nS, nS))],\n",
    "    [np.zeros((nS, nS)), sbp_H2N2L_wp005 @ vaso_off],\n",
    "])\n",
    "assert np.isclose(vasopressor_off.sum(axis=1), 1).all()"
   ]
  },
  {
   "cell_type": "markdown",
   "metadata": {},
   "source": [
    "## Fluctuate\n",
    "- all (non-treatment) states fluctuate +/- 1 w.p. .1\n",
    "- exception: glucose flucuates +/- 1 w.p. .3 if diabetic"
   ]
  },
  {
   "cell_type": "markdown",
   "metadata": {},
   "source": [
    "### hr"
   ]
  },
  {
   "cell_type": "code",
   "execution_count": 28,
   "metadata": {},
   "outputs": [],
   "source": [
    "# (abx != 1) && (s_abx != 1)\n",
    "hr_fluctuate = np.zeros((nS, nS))\n",
    "for (sbp, o2, glu, abx, vent, vaso, _) in itertools.product(\n",
    "    *[state_variable_values[key] for key in state_variables if key not in ['hr']]\n",
    "):\n",
    "    s0 = State(state_categs=[0, sbp, o2, glu, abx, vaso, vent], diabetic_idx=0).get_state_idx()\n",
    "    s1 = State(state_categs=[1, sbp, o2, glu, abx, vaso, vent], diabetic_idx=0).get_state_idx()\n",
    "    s2 = State(state_categs=[2, sbp, o2, glu, abx, vaso, vent], diabetic_idx=0).get_state_idx()\n",
    "    s0_0 = State(state_categs=[0, sbp, o2, glu, 0, vaso, vent], diabetic_idx=0).get_state_idx()\n",
    "    s1_0 = State(state_categs=[1, sbp, o2, glu, 0, vaso, vent], diabetic_idx=0).get_state_idx()\n",
    "    s2_0 = State(state_categs=[2, sbp, o2, glu, 0, vaso, vent], diabetic_idx=0).get_state_idx()\n",
    "    s0_1 = State(state_categs=[0, sbp, o2, glu, 1, vaso, vent], diabetic_idx=0).get_state_idx()\n",
    "    s1_1 = State(state_categs=[1, sbp, o2, glu, 1, vaso, vent], diabetic_idx=0).get_state_idx()\n",
    "    s2_1 = State(state_categs=[2, sbp, o2, glu, 1, vaso, vent], diabetic_idx=0).get_state_idx()\n",
    "    hr_fluctuate[s0_0, s0_0] = 0.9\n",
    "    hr_fluctuate[s0_0, s1_0] = 0.1\n",
    "    hr_fluctuate[s1_0, s0_0] = 0.1\n",
    "    hr_fluctuate[s1_0, s1_0] = 0.8\n",
    "    hr_fluctuate[s1_0, s2_0] = 0.1\n",
    "    hr_fluctuate[s2_0, s1_0] = 0.1\n",
    "    hr_fluctuate[s2_0, s2_0] = 0.9\n",
    "    \n",
    "    hr_fluctuate[s0_1, s0_1] = 1\n",
    "    hr_fluctuate[s1_1, s1_1] = 1\n",
    "    hr_fluctuate[s2_1, s2_1] = 1\n",
    "\n",
    "assert np.isclose(hr_fluctuate.sum(axis=1), 1).all()\n",
    "hr_fluctuate = np.block([[hr_fluctuate, np.zeros((nS, nS))], [np.zeros((nS, nS)), hr_fluctuate]])"
   ]
  },
  {
   "cell_type": "markdown",
   "metadata": {},
   "source": [
    "### sbp"
   ]
  },
  {
   "cell_type": "code",
   "execution_count": 29,
   "metadata": {},
   "outputs": [],
   "source": [
    "# vaso withdrawn affects sbp (non-diabetic)\n",
    "# N->L, H->N wp 0.1\n",
    "sbp_fluctuate = np.zeros((nS, nS))\n",
    "for (hr, o2, glu, abx, vent, vaso, _) in itertools.product(\n",
    "    *[state_variable_values[key] for key in state_variables if key not in ['sbp']]\n",
    "):\n",
    "    s0 = State(state_categs=[hr, 0, o2, glu, abx, vaso, vent], diabetic_idx=0).get_state_idx()\n",
    "    s1 = State(state_categs=[hr, 1, o2, glu, abx, vaso, vent], diabetic_idx=0).get_state_idx()\n",
    "    s2 = State(state_categs=[hr, 2, o2, glu, abx, vaso, vent], diabetic_idx=0).get_state_idx()\n",
    "    \n",
    "    s0_00 = State(state_categs=[hr, 0, o2, glu, 0, 0, vent], diabetic_idx=0).get_state_idx()\n",
    "    s1_00 = State(state_categs=[hr, 1, o2, glu, 0, 0, vent], diabetic_idx=0).get_state_idx()\n",
    "    s2_00 = State(state_categs=[hr, 2, o2, glu, 0, 0, vent], diabetic_idx=0).get_state_idx()\n",
    "    s0_01 = State(state_categs=[hr, 0, o2, glu, 0, 1, vent], diabetic_idx=0).get_state_idx()\n",
    "    s1_01 = State(state_categs=[hr, 1, o2, glu, 0, 1, vent], diabetic_idx=0).get_state_idx()\n",
    "    s2_01 = State(state_categs=[hr, 2, o2, glu, 0, 1, vent], diabetic_idx=0).get_state_idx()\n",
    "    \n",
    "    s0_10 = State(state_categs=[hr, 0, o2, glu, 1, 0, vent], diabetic_idx=0).get_state_idx()\n",
    "    s1_10 = State(state_categs=[hr, 1, o2, glu, 1, 0, vent], diabetic_idx=0).get_state_idx()\n",
    "    s2_10 = State(state_categs=[hr, 2, o2, glu, 1, 0, vent], diabetic_idx=0).get_state_idx()\n",
    "    s0_11 = State(state_categs=[hr, 0, o2, glu, 1, 1, vent], diabetic_idx=0).get_state_idx()\n",
    "    s1_11 = State(state_categs=[hr, 1, o2, glu, 1, 1, vent], diabetic_idx=0).get_state_idx()\n",
    "    s2_11 = State(state_categs=[hr, 2, o2, glu, 1, 1, vent], diabetic_idx=0).get_state_idx()\n",
    "    \n",
    "    sbp_fluctuate[s0_01, s0_01] = 1\n",
    "    sbp_fluctuate[s1_01, s1_01] = 1\n",
    "    sbp_fluctuate[s2_01, s2_01] = 1\n",
    "    \n",
    "    sbp_fluctuate[s0_10, s0_10] = 1\n",
    "    sbp_fluctuate[s1_10, s1_10] = 1\n",
    "    sbp_fluctuate[s2_10, s2_10] = 1\n",
    "    \n",
    "    sbp_fluctuate[s0_11, s0_11] = 1\n",
    "    sbp_fluctuate[s1_11, s1_11] = 1\n",
    "    sbp_fluctuate[s2_11, s2_11] = 1\n",
    "    \n",
    "    sbp_fluctuate[s0_00, s0_00] = 0.9\n",
    "    sbp_fluctuate[s0_00, s1_00] = 0.1\n",
    "    sbp_fluctuate[s1_00, s0_00] = 0.1\n",
    "    sbp_fluctuate[s1_00, s1_00] = 0.8\n",
    "    sbp_fluctuate[s1_00, s2_00] = 0.1\n",
    "    sbp_fluctuate[s2_00, s1_00] = 0.1\n",
    "    sbp_fluctuate[s2_00, s2_00] = 0.9\n",
    "\n",
    "assert np.isclose(sbp_fluctuate.sum(axis=1), 1).all()\n",
    "sbp_fluctuate = np.block([[sbp_fluctuate, np.zeros((nS, nS))], [np.zeros((nS, nS)), sbp_fluctuate]])"
   ]
  },
  {
   "cell_type": "markdown",
   "metadata": {},
   "source": [
    "### o2"
   ]
  },
  {
   "cell_type": "code",
   "execution_count": 30,
   "metadata": {},
   "outputs": [],
   "source": [
    "# vent withdrawn affects o2: normal->low wp 0.1\n",
    "o2_fluctuate = np.zeros((nS, nS))\n",
    "for (hr, sbp, glu, abx, vent, vaso, _) in itertools.product(\n",
    "    *[state_variable_values[key] for key in state_variables if key not in ['o2']]\n",
    "):\n",
    "    s0 = State(state_categs=[hr, sbp, 0, glu, abx, vaso, vent], diabetic_idx=0).get_state_idx()\n",
    "    s1 = State(state_categs=[hr, sbp, 1, glu, abx, vaso, vent], diabetic_idx=0).get_state_idx()\n",
    "    s0_0 = State(state_categs=[hr, sbp, 0, glu, abx, vaso, 0], diabetic_idx=0).get_state_idx()\n",
    "    s1_0 = State(state_categs=[hr, sbp, 1, glu, abx, vaso, 0], diabetic_idx=0).get_state_idx()\n",
    "    s0_1 = State(state_categs=[hr, sbp, 0, glu, abx, vaso, 1], diabetic_idx=0).get_state_idx()\n",
    "    s1_1 = State(state_categs=[hr, sbp, 1, glu, abx, vaso, 1], diabetic_idx=0).get_state_idx()\n",
    "    o2_fluctuate[s0_0, s0_0] = 0.9\n",
    "    o2_fluctuate[s0_0, s1_0] = 0.1\n",
    "    o2_fluctuate[s1_0, s0_0] = 0.1\n",
    "    o2_fluctuate[s1_0, s1_0] = 0.9\n",
    "    \n",
    "    o2_fluctuate[s0_1, s0_1] = 1\n",
    "    o2_fluctuate[s1_1, s1_1] = 1\n",
    "\n",
    "assert np.isclose(o2_fluctuate.sum(axis=1), 1).all()\n",
    "o2_fluctuate = np.block([[o2_fluctuate, np.zeros((nS, nS))], [np.zeros((nS, nS)), o2_fluctuate]])"
   ]
  },
  {
   "cell_type": "markdown",
   "metadata": {},
   "source": [
    "### glu"
   ]
  },
  {
   "cell_type": "code",
   "execution_count": 31,
   "metadata": {},
   "outputs": [],
   "source": [
    "# non-diabetic wp 0.1\n",
    "glu_fluctuate_01 = np.zeros((nS, nS))\n",
    "for (hr, sbp, o2, abx, vent, vaso, _) in itertools.product(\n",
    "    *[state_variable_values[key] for key in state_variables if key not in ['glu']]\n",
    "):\n",
    "    s0 = State(state_categs=[hr, sbp, o2, 0, abx, vaso, vent], diabetic_idx=0).get_state_idx()\n",
    "    s1 = State(state_categs=[hr, sbp, o2, 1, abx, vaso, vent], diabetic_idx=0).get_state_idx()\n",
    "    s2 = State(state_categs=[hr, sbp, o2, 2, abx, vaso, vent], diabetic_idx=0).get_state_idx()\n",
    "    s3 = State(state_categs=[hr, sbp, o2, 3, abx, vaso, vent], diabetic_idx=0).get_state_idx()\n",
    "    s4 = State(state_categs=[hr, sbp, o2, 4, abx, vaso, vent], diabetic_idx=0).get_state_idx()\n",
    "    glu_fluctuate_01[s0, s0] = 0.9\n",
    "    glu_fluctuate_01[s0, s1] = 0.1\n",
    "    glu_fluctuate_01[s1, s0] = 0.1\n",
    "    glu_fluctuate_01[s1, s1] = 0.8\n",
    "    glu_fluctuate_01[s1, s2] = 0.1\n",
    "    glu_fluctuate_01[s2, s1] = 0.1\n",
    "    glu_fluctuate_01[s2, s2] = 0.8\n",
    "    glu_fluctuate_01[s2, s3] = 0.1\n",
    "    glu_fluctuate_01[s3, s2] = 0.1\n",
    "    glu_fluctuate_01[s3, s3] = 0.8\n",
    "    glu_fluctuate_01[s3, s4] = 0.1\n",
    "    glu_fluctuate_01[s4, s3] = 0.1\n",
    "    glu_fluctuate_01[s4, s4] = 0.9\n",
    "\n",
    "assert np.isclose(glu_fluctuate_01.sum(axis=1), 1).all()"
   ]
  },
  {
   "cell_type": "code",
   "execution_count": 32,
   "metadata": {},
   "outputs": [],
   "source": [
    "# diabetic wp 0.3\n",
    "glu_fluctuate_03 = np.zeros((nS, nS))\n",
    "for (hr, sbp, o2, abx, vent, vaso, _) in itertools.product(\n",
    "    *[state_variable_values[key] for key in state_variables if key not in ['glu']]\n",
    "):\n",
    "    s0 = State(state_categs=[hr, sbp, o2, 0, abx, vaso, vent], diabetic_idx=0).get_state_idx()\n",
    "    s1 = State(state_categs=[hr, sbp, o2, 1, abx, vaso, vent], diabetic_idx=0).get_state_idx()\n",
    "    s2 = State(state_categs=[hr, sbp, o2, 2, abx, vaso, vent], diabetic_idx=0).get_state_idx()\n",
    "    s3 = State(state_categs=[hr, sbp, o2, 3, abx, vaso, vent], diabetic_idx=0).get_state_idx()\n",
    "    s4 = State(state_categs=[hr, sbp, o2, 4, abx, vaso, vent], diabetic_idx=0).get_state_idx()\n",
    "    glu_fluctuate_03[s0, s0] = 0.7\n",
    "    glu_fluctuate_03[s0, s1] = 0.3\n",
    "    glu_fluctuate_03[s1, s0] = 0.3\n",
    "    glu_fluctuate_03[s1, s1] = 0.4\n",
    "    glu_fluctuate_03[s1, s2] = 0.3\n",
    "    glu_fluctuate_03[s2, s1] = 0.3\n",
    "    glu_fluctuate_03[s2, s2] = 0.4\n",
    "    glu_fluctuate_03[s2, s3] = 0.3\n",
    "    glu_fluctuate_03[s3, s2] = 0.3\n",
    "    glu_fluctuate_03[s3, s3] = 0.4\n",
    "    glu_fluctuate_03[s3, s4] = 0.3\n",
    "    glu_fluctuate_03[s4, s3] = 0.3\n",
    "    glu_fluctuate_03[s4, s4] = 0.7\n",
    "\n",
    "assert np.isclose(glu_fluctuate_03.sum(axis=1), 1).all()"
   ]
  },
  {
   "cell_type": "code",
   "execution_count": 33,
   "metadata": {},
   "outputs": [],
   "source": [
    "glu_fluctuate = np.block([\n",
    "    [glu_fluctuate_01, np.zeros((nS, nS))],\n",
    "    [np.zeros((nS, nS)), glu_fluctuate_03],\n",
    "])\n",
    "assert np.isclose(glu_fluctuate.sum(axis=1), 1).all()"
   ]
  },
  {
   "cell_type": "markdown",
   "metadata": {},
   "source": [
    "## Assemble Transition Matrix (A,S,S)"
   ]
  },
  {
   "cell_type": "code",
   "execution_count": 34,
   "metadata": {},
   "outputs": [],
   "source": [
    "# abx, vaso, vent\n",
    "transition_000 = (antibiotics_off @ ventilation_off @ vasopressor_off).T @ (hr_fluctuate @ sbp_fluctuate @ o2_fluctuate @ glu_fluctuate).T\n",
    "\n",
    "transition_100 = (antibiotics_on @ ventilation_off @ vasopressor_off).T @ (o2_fluctuate @ glu_fluctuate).T\n",
    "transition_010 = (antibiotics_off @ ventilation_on @ vasopressor_off).T @ (hr_fluctuate @ sbp_fluctuate @ glu_fluctuate).T\n",
    "transition_001 = (antibiotics_off @ ventilation_off @ vasopressor_on).T @ (hr_fluctuate @ o2_fluctuate).T\n",
    "\n",
    "transition_110 = (antibiotics_on @ ventilation_on @ vasopressor_off).T @ (glu_fluctuate).T\n",
    "transition_011 = (antibiotics_off @ ventilation_on @ vasopressor_on).T @ (hr_fluctuate).T\n",
    "transition_101 = (antibiotics_on @ ventilation_off @ vasopressor_on).T @ (o2_fluctuate).T\n",
    "\n",
    "transition_111 = (antibiotics_on @ ventilation_on @ vasopressor_on).T"
   ]
  },
  {
   "cell_type": "code",
   "execution_count": 35,
   "metadata": {},
   "outputs": [],
   "source": [
    "transition_matrix = np.array([\n",
    "    transition_000.T,\n",
    "    transition_001.T,\n",
    "    transition_010.T,\n",
    "    transition_011.T,\n",
    "    transition_100.T,\n",
    "    transition_101.T,\n",
    "    transition_110.T,\n",
    "    transition_111.T,\n",
    "])"
   ]
  },
  {
   "cell_type": "code",
   "execution_count": 36,
   "metadata": {},
   "outputs": [],
   "source": [
    "assert np.isclose(transition_matrix.sum(axis=2), 1).all()"
   ]
  },
  {
   "cell_type": "code",
   "execution_count": 37,
   "metadata": {},
   "outputs": [
    {
     "data": {
      "text/plain": [
       "array([[[0.6561 , 0.     , 0.     , ..., 0.     , 0.     , 0.     ],\n",
       "        [0.729  , 0.     , 0.     , ..., 0.     , 0.     , 0.     ],\n",
       "        [0.729  , 0.     , 0.     , ..., 0.     , 0.     , 0.     ],\n",
       "        ...,\n",
       "        [0.     , 0.     , 0.     , ..., 0.     , 0.     , 0.     ],\n",
       "        [0.     , 0.     , 0.     , ..., 0.     , 0.     , 0.     ],\n",
       "        [0.     , 0.     , 0.     , ..., 0.     , 0.     , 0.     ]],\n",
       "\n",
       "       [[0.     , 0.     , 0.243  , ..., 0.     , 0.     , 0.     ],\n",
       "        [0.     , 0.     , 0.27   , ..., 0.     , 0.     , 0.     ],\n",
       "        [0.     , 0.     , 0.243  , ..., 0.     , 0.     , 0.     ],\n",
       "        ...,\n",
       "        [0.     , 0.     , 0.     , ..., 0.     , 0.     , 0.     ],\n",
       "        [0.     , 0.     , 0.     , ..., 0.     , 0.     , 0.     ],\n",
       "        [0.     , 0.     , 0.     , ..., 0.     , 0.     , 0.     ]],\n",
       "\n",
       "       [[0.     , 0.2187 , 0.     , ..., 0.     , 0.     , 0.     ],\n",
       "        [0.     , 0.2187 , 0.     , ..., 0.     , 0.     , 0.     ],\n",
       "        [0.     , 0.243  , 0.     , ..., 0.     , 0.     , 0.     ],\n",
       "        ...,\n",
       "        [0.     , 0.     , 0.     , ..., 0.     , 0.     , 0.     ],\n",
       "        [0.     , 0.     , 0.     , ..., 0.     , 0.     , 0.     ],\n",
       "        [0.     , 0.     , 0.     , ..., 0.     , 0.     , 0.     ]],\n",
       "\n",
       "       ...,\n",
       "\n",
       "       [[0.     , 0.     , 0.     , ..., 0.     , 0.     , 0.     ],\n",
       "        [0.     , 0.     , 0.     , ..., 0.     , 0.     , 0.     ],\n",
       "        [0.     , 0.     , 0.     , ..., 0.     , 0.     , 0.     ],\n",
       "        ...,\n",
       "        [0.     , 0.     , 0.     , ..., 0.     , 0.4275 , 0.     ],\n",
       "        [0.     , 0.     , 0.     , ..., 0.     , 0.4275 , 0.     ],\n",
       "        [0.     , 0.     , 0.     , ..., 0.     , 0.4275 , 0.     ]],\n",
       "\n",
       "       [[0.     , 0.     , 0.     , ..., 0.     , 0.     , 0.     ],\n",
       "        [0.     , 0.     , 0.     , ..., 0.     , 0.     , 0.     ],\n",
       "        [0.     , 0.     , 0.     , ..., 0.     , 0.     , 0.     ],\n",
       "        ...,\n",
       "        [0.     , 0.     , 0.     , ..., 0.175  , 0.     , 0.     ],\n",
       "        [0.     , 0.     , 0.     , ..., 0.16625, 0.     , 0.     ],\n",
       "        [0.     , 0.     , 0.     , ..., 0.16625, 0.     , 0.     ]],\n",
       "\n",
       "       [[0.     , 0.     , 0.     , ..., 0.     , 0.     , 0.     ],\n",
       "        [0.     , 0.     , 0.     , ..., 0.     , 0.     , 0.     ],\n",
       "        [0.     , 0.     , 0.     , ..., 0.     , 0.     , 0.     ],\n",
       "        ...,\n",
       "        [0.     , 0.     , 0.     , ..., 0.     , 0.     , 0.475  ],\n",
       "        [0.     , 0.     , 0.     , ..., 0.     , 0.     , 0.475  ],\n",
       "        [0.     , 0.     , 0.     , ..., 0.     , 0.     , 0.475  ]]])"
      ]
     },
     "execution_count": 37,
     "metadata": {},
     "output_type": "execute_result"
    }
   ],
   "source": [
    "transition_matrix"
   ]
  },
  {
   "cell_type": "code",
   "execution_count": 38,
   "metadata": {},
   "outputs": [
    {
     "data": {
      "text/plain": [
       "(8, 1440, 1440)"
      ]
     },
     "execution_count": 38,
     "metadata": {},
     "output_type": "execute_result"
    }
   ],
   "source": [
    "transition_matrix.shape"
   ]
  },
  {
   "cell_type": "code",
   "execution_count": 39,
   "metadata": {},
   "outputs": [],
   "source": [
    "transition_matrix_absorbing = np.zeros((nA, nS*2+2, nS*2+2))\n",
    "transition_matrix_absorbing[:, :nS*2, :nS*2] = transition_matrix\n",
    "transition_matrix_absorbing[:, -2, -2] = 1\n",
    "transition_matrix_absorbing[:, -1, -1] = 1\n",
    "for s in range(nS):\n",
    "    if reward_per_state[s] == -1:\n",
    "        transition_matrix_absorbing[:, s, :] = 0\n",
    "        transition_matrix_absorbing[:, s, -2] = 1\n",
    "        transition_matrix_absorbing[:, s+nS, :] = 0\n",
    "        transition_matrix_absorbing[:, s+nS, -2] = 1\n",
    "    elif reward_per_state[s] == 1:\n",
    "        transition_matrix_absorbing[:, s, :] = 0\n",
    "        transition_matrix_absorbing[:, s, -1] = 1\n",
    "        transition_matrix_absorbing[:, s+nS, :] = 0\n",
    "        transition_matrix_absorbing[:, s+nS, -1] = 1"
   ]
  },
  {
   "cell_type": "markdown",
   "metadata": {},
   "source": [
    "## Initial State Distribution (S,)"
   ]
  },
  {
   "cell_type": "code",
   "execution_count": 40,
   "metadata": {},
   "outputs": [],
   "source": [
    "prior_initial_state = np.zeros(nS*2)"
   ]
  },
  {
   "cell_type": "code",
   "execution_count": 41,
   "metadata": {},
   "outputs": [],
   "source": [
    "diab_prior = [0.8, 0.2]\n",
    "hr_prior = [0.25, 0.5, 0.25]\n",
    "sbp_prior = [0.25, 0.5, 0.25]\n",
    "o2_prior = [0.2, 0.8]\n",
    "glu_prior = [\n",
    "    [0.05, 0.15, 0.6, 0.15, 0.05], # non-diabetic\n",
    "    [0.01, 0.05, 0.15, 0.6, 0.19], # diabetic\n",
    "]\n",
    "abx, vent, vaso = (0,0,0)"
   ]
  },
  {
   "cell_type": "code",
   "execution_count": 42,
   "metadata": {},
   "outputs": [],
   "source": [
    "for (hr, sbp, o2, glu, diab) in itertools.product(\n",
    "    *[state_variable_values[key] for key in state_variables if key not in ['abx', 'vaso', 'vent']]\n",
    "):\n",
    "    s = State(state_categs=[hr, sbp, o2, glu, 0, 0, 0], diabetic_idx=diab).get_state_idx('full')\n",
    "    prior_initial_state[s] = \\\n",
    "        diab_prior[diab] * hr_prior[hr] * sbp_prior[sbp] * o2_prior[o2] * glu_prior[diab][glu]"
   ]
  },
  {
   "cell_type": "code",
   "execution_count": 43,
   "metadata": {},
   "outputs": [
    {
     "data": {
      "text/plain": [
       "(1440,)"
      ]
     },
     "execution_count": 43,
     "metadata": {},
     "output_type": "execute_result"
    }
   ],
   "source": [
    "prior_initial_state.shape"
   ]
  },
  {
   "cell_type": "code",
   "execution_count": 44,
   "metadata": {},
   "outputs": [
    {
     "data": {
      "text/plain": [
       "array([0.0005, 0.    , 0.    , ..., 0.    , 0.    , 0.    ])"
      ]
     },
     "execution_count": 44,
     "metadata": {},
     "output_type": "execute_result"
    }
   ],
   "source": [
    "prior_initial_state"
   ]
  },
  {
   "cell_type": "code",
   "execution_count": 45,
   "metadata": {},
   "outputs": [],
   "source": [
    "prior_initial_state_absorbing = np.zeros(nS*2+2)\n",
    "prior_initial_state_absorbing[:nS*2] = prior_initial_state\n",
    "prior_initial_state_absorbing[[*(reward_per_state != 0), *(reward_per_state != 0), True, True]] = 0 # do not start in an almost-terminal state\n",
    "prior_initial_state_absorbing = prior_initial_state_absorbing / prior_initial_state_absorbing.sum() # renormalize"
   ]
  },
  {
   "cell_type": "code",
   "execution_count": 46,
   "metadata": {},
   "outputs": [
    {
     "data": {
      "text/plain": [
       "(1442,)"
      ]
     },
     "execution_count": 46,
     "metadata": {},
     "output_type": "execute_result"
    }
   ],
   "source": [
    "prior_initial_state_absorbing.shape"
   ]
  },
  {
   "cell_type": "code",
   "execution_count": 47,
   "metadata": {},
   "outputs": [
    {
     "data": {
      "text/plain": [
       "74"
      ]
     },
     "execution_count": 47,
     "metadata": {},
     "output_type": "execute_result"
    }
   ],
   "source": [
    "(prior_initial_state_absorbing > 0).sum()"
   ]
  },
  {
   "cell_type": "code",
   "execution_count": 48,
   "metadata": {},
   "outputs": [
    {
     "data": {
      "text/plain": [
       "(array([376]),)"
      ]
     },
     "execution_count": 48,
     "metadata": {},
     "output_type": "execute_result"
    }
   ],
   "source": [
    "np.where(reward_per_state == 1)"
   ]
  },
  {
   "cell_type": "code",
   "execution_count": 49,
   "metadata": {},
   "outputs": [
    {
     "data": {
      "text/plain": [
       "['../data/prior_initial_state_absorbing.joblib']"
      ]
     },
     "execution_count": 49,
     "metadata": {},
     "output_type": "execute_result"
    }
   ],
   "source": [
    "joblib.dump(prior_initial_state_absorbing, '../data/prior_initial_state_absorbing.joblib')"
   ]
  },
  {
   "cell_type": "markdown",
   "metadata": {},
   "source": [
    "## Modified Initial State Distribution (S,)"
   ]
  },
  {
   "cell_type": "code",
   "execution_count": 50,
   "metadata": {},
   "outputs": [],
   "source": [
    "modified_prior_initial_state = np.zeros(nS*2)"
   ]
  },
  {
   "cell_type": "code",
   "execution_count": 51,
   "metadata": {},
   "outputs": [],
   "source": [
    "diab_prior = [0.8, 0.2]\n",
    "hr_prior = [0.25, 0.5, 0.25]\n",
    "sbp_prior = [0.25, 0.5, 0.25]\n",
    "o2_prior = [0.2, 0.8]\n",
    "glu_prior = [\n",
    "    [0.05, 0.15, 0.6, 0.15, 0.05], # non-diabetic\n",
    "    [0.01, 0.05, 0.15, 0.6, 0.19], # diabetic\n",
    "]\n",
    "abx_prior, vent_prior, vaso_prior = [0.5, 0.5], [0.5, 0.5], [0.5, 0.5]"
   ]
  },
  {
   "cell_type": "code",
   "execution_count": 52,
   "metadata": {},
   "outputs": [],
   "source": [
    "for (hr, sbp, o2, glu, abx, vaso, vent, diab) in itertools.product(\n",
    "    *[state_variable_values[key] for key in state_variables]\n",
    "):\n",
    "    s = State(state_categs=[hr, sbp, o2, glu, abx, vaso, vent], diabetic_idx=diab).get_state_idx('full')\n",
    "    modified_prior_initial_state[s] = \\\n",
    "        diab_prior[diab] * hr_prior[hr] * sbp_prior[sbp] * o2_prior[o2] * glu_prior[diab][glu] * abx_prior[abx] * vent_prior[vent] * vaso_prior[vaso]"
   ]
  },
  {
   "cell_type": "code",
   "execution_count": 53,
   "metadata": {},
   "outputs": [
    {
     "data": {
      "text/plain": [
       "(1440,)"
      ]
     },
     "execution_count": 53,
     "metadata": {},
     "output_type": "execute_result"
    }
   ],
   "source": [
    "modified_prior_initial_state.shape"
   ]
  },
  {
   "cell_type": "code",
   "execution_count": 54,
   "metadata": {},
   "outputs": [
    {
     "data": {
      "text/plain": [
       "array([6.250e-05, 6.250e-05, 6.250e-05, ..., 2.375e-04, 2.375e-04,\n",
       "       2.375e-04])"
      ]
     },
     "execution_count": 54,
     "metadata": {},
     "output_type": "execute_result"
    }
   ],
   "source": [
    "modified_prior_initial_state"
   ]
  },
  {
   "cell_type": "code",
   "execution_count": 55,
   "metadata": {},
   "outputs": [],
   "source": [
    "modified_prior_initial_state_absorbing = np.zeros(nS*2+2)\n",
    "modified_prior_initial_state_absorbing[:nS*2] = modified_prior_initial_state\n",
    "modified_prior_initial_state_absorbing[[*(reward_per_state != 0), *(reward_per_state != 0), True, True]] = 0 # do not start in an almost-terminal state\n",
    "modified_prior_initial_state_absorbing = modified_prior_initial_state_absorbing / modified_prior_initial_state_absorbing.sum() # renormalize"
   ]
  },
  {
   "cell_type": "code",
   "execution_count": 56,
   "metadata": {},
   "outputs": [
    {
     "data": {
      "text/plain": [
       "(1442,)"
      ]
     },
     "execution_count": 56,
     "metadata": {},
     "output_type": "execute_result"
    }
   ],
   "source": [
    "modified_prior_initial_state_absorbing.shape"
   ]
  },
  {
   "cell_type": "code",
   "execution_count": 57,
   "metadata": {},
   "outputs": [
    {
     "data": {
      "text/plain": [
       "606"
      ]
     },
     "execution_count": 57,
     "metadata": {},
     "output_type": "execute_result"
    }
   ],
   "source": [
    "(modified_prior_initial_state_absorbing > 0).sum()"
   ]
  },
  {
   "cell_type": "code",
   "execution_count": 58,
   "metadata": {},
   "outputs": [
    {
     "data": {
      "text/plain": [
       "(array([376]),)"
      ]
     },
     "execution_count": 58,
     "metadata": {},
     "output_type": "execute_result"
    }
   ],
   "source": [
    "np.where(reward_per_state == 1)"
   ]
  },
  {
   "cell_type": "code",
   "execution_count": 59,
   "metadata": {},
   "outputs": [
    {
     "data": {
      "text/plain": [
       "['../data/modified_prior_initial_state_absorbing.joblib']"
      ]
     },
     "execution_count": 59,
     "metadata": {},
     "output_type": "execute_result"
    }
   ],
   "source": [
    "joblib.dump(modified_prior_initial_state_absorbing, '../data/modified_prior_initial_state_absorbing.joblib')"
   ]
  },
  {
   "cell_type": "markdown",
   "metadata": {},
   "source": [
    "# Save"
   ]
  },
  {
   "cell_type": "code",
   "execution_count": 60,
   "metadata": {},
   "outputs": [],
   "source": [
    "MDP_parameters = {\n",
    "    'transition_matrix': transition_matrix,\n",
    "    'transition_matrix_absorbing': transition_matrix_absorbing,\n",
    "    'reward_per_state': reward_per_state,\n",
    "    'reward_matrix_ASS': reward_matrix_ASS,\n",
    "    'reward_matrix_absorbing_SA': reward_matrix_absorbing_SA,\n",
    "    'reward_matrix_absorbing_ASS': reward_matrix_absorbing_ASS,\n",
    "    'prior_initial_state': prior_initial_state,\n",
    "    'prior_initial_state_absorbing': prior_initial_state_absorbing, \n",
    "}"
   ]
  },
  {
   "cell_type": "code",
   "execution_count": 61,
   "metadata": {},
   "outputs": [
    {
     "data": {
      "text/plain": [
       "['../data/MDP_parameters.joblib']"
      ]
     },
     "execution_count": 61,
     "metadata": {},
     "output_type": "execute_result"
    }
   ],
   "source": [
    "joblib.dump(MDP_parameters, '../data/MDP_parameters.joblib')"
   ]
  },
  {
   "cell_type": "code",
   "execution_count": null,
   "metadata": {},
   "outputs": [],
   "source": []
  }
 ],
 "metadata": {
  "kernelspec": {
   "display_name": "py39_lightning",
   "language": "python",
   "name": "py39_lightning"
  },
  "language_info": {
   "codemirror_mode": {
    "name": "ipython",
    "version": 3
   },
   "file_extension": ".py",
   "mimetype": "text/x-python",
   "name": "python",
   "nbconvert_exporter": "python",
   "pygments_lexer": "ipython3",
   "version": "3.9.7"
  }
 },
 "nbformat": 4,
 "nbformat_minor": 4
}
